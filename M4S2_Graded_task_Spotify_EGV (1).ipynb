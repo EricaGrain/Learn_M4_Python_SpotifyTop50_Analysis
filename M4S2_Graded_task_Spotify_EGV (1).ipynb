{
  "nbformat": 4,
  "nbformat_minor": 0,
  "metadata": {
    "colab": {
      "provenance": []
    },
    "kernelspec": {
      "name": "python3",
      "display_name": "Python 3"
    },
    "language_info": {
      "name": "python"
    }
  },
  "cells": [
    {
      "cell_type": "markdown",
      "source": [
        "# **WHAT MAKES IT A HIT SONG: SPOTIFY TOP 50 SONG ANALYSIS**\n",
        "\n",
        "The *goal of this analysis* is to uncover the common characteristics shared by songs that make it into Spotify’s Top 50 most-streamed list.\n",
        "\n",
        "To explore this, a *dataset of 50 popular tracks* was examined using built-in pandas functions. Each song includes several audio features, such as danceability, acousticness, energy, and duration, among others.\n",
        "\n",
        "*Insights are guided by a series of analytical questions*. Each question appears above the relevant code block, followed by insights generated from the data.\n",
        "\n",
        "---\n",
        "\n",
        "\n",
        "☝ NOTE: Prior to reading the below, click **Run all** at the top of the page."
      ],
      "metadata": {
        "id": "nZ3YmMKbE4xY"
      }
    },
    {
      "cell_type": "markdown",
      "source": [
        "# Dataset: Import, Overview, and Cleaning\n",
        "\n",
        "In this part, I import the available dataset and run some built-in pandas functions to summarize the data and understand:\n",
        "- what values I have available and of which data type,\n",
        "- if there are any duplicates and/or missing values,\n",
        "- what are the outliers.\n",
        "\n"
      ],
      "metadata": {
        "id": "ytOgcTNTpHqK"
      }
    },
    {
      "cell_type": "markdown",
      "source": [
        "In the code block below I have imported kagglehub, pandas and os library to be able to read the dataset from a csv file available on Kaggle."
      ],
      "metadata": {
        "id": "Gew8UzoGtPVX"
      }
    },
    {
      "cell_type": "code",
      "execution_count": 73,
      "metadata": {
        "id": "HVhraSp2BEO2",
        "colab": {
          "base_uri": "https://localhost:8080/"
        },
        "outputId": "f629e8b9-67b5-4197-a858-f781cbc11c49"
      },
      "outputs": [
        {
          "output_type": "stream",
          "name": "stdout",
          "text": [
            "Dataset loaded successfully!\n"
          ]
        }
      ],
      "source": [
        "import kagglehub\n",
        "import pandas as pd\n",
        "import os\n",
        "\n",
        "path = kagglehub.dataset_download(\"atillacolak/top-50-spotify-tracks-2020\")\n",
        "\n",
        "csv_path = os.path.join(path, 'spotifytoptracks.csv')\n",
        "\n",
        "df = pd.read_csv(csv_path)\n",
        "\n",
        "print(\"Dataset loaded successfully!\")\n"
      ]
    },
    {
      "cell_type": "markdown",
      "source": [
        "After successfully importing the dataset, I have run the *df.head()* to see the first five lines of the dataset and identify what features are available. I have also dropped the *Unnamed:0* as it is repeating the auto-generated index and was not defined in the dataset description."
      ],
      "metadata": {
        "id": "SDhgyBtNtsJI"
      }
    },
    {
      "cell_type": "code",
      "source": [
        "df = df.drop(columns=['Unnamed: 0'])"
      ],
      "metadata": {
        "id": "qV4BxgoKLNHM"
      },
      "execution_count": 78,
      "outputs": []
    },
    {
      "cell_type": "code",
      "source": [
        "df.head()"
      ],
      "metadata": {
        "id": "sZC7wLMRDGJS",
        "colab": {
          "base_uri": "https://localhost:8080/",
          "height": 345
        },
        "outputId": "e0c6e878-f9e1-47f4-9fed-00c41f37c7fc"
      },
      "execution_count": 79,
      "outputs": [
        {
          "output_type": "execute_result",
          "data": {
            "text/plain": [
              "        artist                                  album             track_name  \\\n",
              "0   The Weeknd                            After Hours        Blinding Lights   \n",
              "1  Tones And I                           Dance Monkey           Dance Monkey   \n",
              "2  Roddy Ricch  Please Excuse Me For Being Antisocial                The Box   \n",
              "3    SAINt JHN                  Roses (Imanbek Remix)  Roses - Imanbek Remix   \n",
              "4     Dua Lipa                       Future Nostalgia        Don't Start Now   \n",
              "\n",
              "                 track_id  energy  danceability  key  loudness  acousticness  \\\n",
              "0  0VjIjW4GlUZAMYd2vXMi3b   0.730         0.514    1    -5.934       0.00146   \n",
              "1  1rgnBhdG2JDFTbYkYRZAku   0.593         0.825    6    -6.401       0.68800   \n",
              "2  0nbXyq5TXYPCO7pr3N8S4I   0.586         0.896   10    -6.687       0.10400   \n",
              "3  2Wo6QQD1KMDWeFkkjLqwx5   0.721         0.785    8    -5.457       0.01490   \n",
              "4  3PfIrDoz19wz7qK7tYeu62   0.793         0.793   11    -4.521       0.01230   \n",
              "\n",
              "   speechiness  instrumentalness  liveness  valence    tempo  duration_ms  \\\n",
              "0       0.0598          0.000095    0.0897    0.334  171.005       200040   \n",
              "1       0.0988          0.000161    0.1700    0.540   98.078       209755   \n",
              "2       0.0559          0.000000    0.7900    0.642  116.971       196653   \n",
              "3       0.0506          0.004320    0.2850    0.894  121.962       176219   \n",
              "4       0.0830          0.000000    0.0951    0.679  123.950       183290   \n",
              "\n",
              "               genre  \n",
              "0           R&B/Soul  \n",
              "1  Alternative/Indie  \n",
              "2        Hip-Hop/Rap  \n",
              "3   Dance/Electronic  \n",
              "4           Nu-disco  "
            ],
            "text/html": [
              "\n",
              "  <div id=\"df-4872a5f3-85a0-4c44-bbab-907d377c80d6\" class=\"colab-df-container\">\n",
              "    <div>\n",
              "<style scoped>\n",
              "    .dataframe tbody tr th:only-of-type {\n",
              "        vertical-align: middle;\n",
              "    }\n",
              "\n",
              "    .dataframe tbody tr th {\n",
              "        vertical-align: top;\n",
              "    }\n",
              "\n",
              "    .dataframe thead th {\n",
              "        text-align: right;\n",
              "    }\n",
              "</style>\n",
              "<table border=\"1\" class=\"dataframe\">\n",
              "  <thead>\n",
              "    <tr style=\"text-align: right;\">\n",
              "      <th></th>\n",
              "      <th>artist</th>\n",
              "      <th>album</th>\n",
              "      <th>track_name</th>\n",
              "      <th>track_id</th>\n",
              "      <th>energy</th>\n",
              "      <th>danceability</th>\n",
              "      <th>key</th>\n",
              "      <th>loudness</th>\n",
              "      <th>acousticness</th>\n",
              "      <th>speechiness</th>\n",
              "      <th>instrumentalness</th>\n",
              "      <th>liveness</th>\n",
              "      <th>valence</th>\n",
              "      <th>tempo</th>\n",
              "      <th>duration_ms</th>\n",
              "      <th>genre</th>\n",
              "    </tr>\n",
              "  </thead>\n",
              "  <tbody>\n",
              "    <tr>\n",
              "      <th>0</th>\n",
              "      <td>The Weeknd</td>\n",
              "      <td>After Hours</td>\n",
              "      <td>Blinding Lights</td>\n",
              "      <td>0VjIjW4GlUZAMYd2vXMi3b</td>\n",
              "      <td>0.730</td>\n",
              "      <td>0.514</td>\n",
              "      <td>1</td>\n",
              "      <td>-5.934</td>\n",
              "      <td>0.00146</td>\n",
              "      <td>0.0598</td>\n",
              "      <td>0.000095</td>\n",
              "      <td>0.0897</td>\n",
              "      <td>0.334</td>\n",
              "      <td>171.005</td>\n",
              "      <td>200040</td>\n",
              "      <td>R&amp;B/Soul</td>\n",
              "    </tr>\n",
              "    <tr>\n",
              "      <th>1</th>\n",
              "      <td>Tones And I</td>\n",
              "      <td>Dance Monkey</td>\n",
              "      <td>Dance Monkey</td>\n",
              "      <td>1rgnBhdG2JDFTbYkYRZAku</td>\n",
              "      <td>0.593</td>\n",
              "      <td>0.825</td>\n",
              "      <td>6</td>\n",
              "      <td>-6.401</td>\n",
              "      <td>0.68800</td>\n",
              "      <td>0.0988</td>\n",
              "      <td>0.000161</td>\n",
              "      <td>0.1700</td>\n",
              "      <td>0.540</td>\n",
              "      <td>98.078</td>\n",
              "      <td>209755</td>\n",
              "      <td>Alternative/Indie</td>\n",
              "    </tr>\n",
              "    <tr>\n",
              "      <th>2</th>\n",
              "      <td>Roddy Ricch</td>\n",
              "      <td>Please Excuse Me For Being Antisocial</td>\n",
              "      <td>The Box</td>\n",
              "      <td>0nbXyq5TXYPCO7pr3N8S4I</td>\n",
              "      <td>0.586</td>\n",
              "      <td>0.896</td>\n",
              "      <td>10</td>\n",
              "      <td>-6.687</td>\n",
              "      <td>0.10400</td>\n",
              "      <td>0.0559</td>\n",
              "      <td>0.000000</td>\n",
              "      <td>0.7900</td>\n",
              "      <td>0.642</td>\n",
              "      <td>116.971</td>\n",
              "      <td>196653</td>\n",
              "      <td>Hip-Hop/Rap</td>\n",
              "    </tr>\n",
              "    <tr>\n",
              "      <th>3</th>\n",
              "      <td>SAINt JHN</td>\n",
              "      <td>Roses (Imanbek Remix)</td>\n",
              "      <td>Roses - Imanbek Remix</td>\n",
              "      <td>2Wo6QQD1KMDWeFkkjLqwx5</td>\n",
              "      <td>0.721</td>\n",
              "      <td>0.785</td>\n",
              "      <td>8</td>\n",
              "      <td>-5.457</td>\n",
              "      <td>0.01490</td>\n",
              "      <td>0.0506</td>\n",
              "      <td>0.004320</td>\n",
              "      <td>0.2850</td>\n",
              "      <td>0.894</td>\n",
              "      <td>121.962</td>\n",
              "      <td>176219</td>\n",
              "      <td>Dance/Electronic</td>\n",
              "    </tr>\n",
              "    <tr>\n",
              "      <th>4</th>\n",
              "      <td>Dua Lipa</td>\n",
              "      <td>Future Nostalgia</td>\n",
              "      <td>Don't Start Now</td>\n",
              "      <td>3PfIrDoz19wz7qK7tYeu62</td>\n",
              "      <td>0.793</td>\n",
              "      <td>0.793</td>\n",
              "      <td>11</td>\n",
              "      <td>-4.521</td>\n",
              "      <td>0.01230</td>\n",
              "      <td>0.0830</td>\n",
              "      <td>0.000000</td>\n",
              "      <td>0.0951</td>\n",
              "      <td>0.679</td>\n",
              "      <td>123.950</td>\n",
              "      <td>183290</td>\n",
              "      <td>Nu-disco</td>\n",
              "    </tr>\n",
              "  </tbody>\n",
              "</table>\n",
              "</div>\n",
              "    <div class=\"colab-df-buttons\">\n",
              "\n",
              "  <div class=\"colab-df-container\">\n",
              "    <button class=\"colab-df-convert\" onclick=\"convertToInteractive('df-4872a5f3-85a0-4c44-bbab-907d377c80d6')\"\n",
              "            title=\"Convert this dataframe to an interactive table.\"\n",
              "            style=\"display:none;\">\n",
              "\n",
              "  <svg xmlns=\"http://www.w3.org/2000/svg\" height=\"24px\" viewBox=\"0 -960 960 960\">\n",
              "    <path d=\"M120-120v-720h720v720H120Zm60-500h600v-160H180v160Zm220 220h160v-160H400v160Zm0 220h160v-160H400v160ZM180-400h160v-160H180v160Zm440 0h160v-160H620v160ZM180-180h160v-160H180v160Zm440 0h160v-160H620v160Z\"/>\n",
              "  </svg>\n",
              "    </button>\n",
              "\n",
              "  <style>\n",
              "    .colab-df-container {\n",
              "      display:flex;\n",
              "      gap: 12px;\n",
              "    }\n",
              "\n",
              "    .colab-df-convert {\n",
              "      background-color: #E8F0FE;\n",
              "      border: none;\n",
              "      border-radius: 50%;\n",
              "      cursor: pointer;\n",
              "      display: none;\n",
              "      fill: #1967D2;\n",
              "      height: 32px;\n",
              "      padding: 0 0 0 0;\n",
              "      width: 32px;\n",
              "    }\n",
              "\n",
              "    .colab-df-convert:hover {\n",
              "      background-color: #E2EBFA;\n",
              "      box-shadow: 0px 1px 2px rgba(60, 64, 67, 0.3), 0px 1px 3px 1px rgba(60, 64, 67, 0.15);\n",
              "      fill: #174EA6;\n",
              "    }\n",
              "\n",
              "    .colab-df-buttons div {\n",
              "      margin-bottom: 4px;\n",
              "    }\n",
              "\n",
              "    [theme=dark] .colab-df-convert {\n",
              "      background-color: #3B4455;\n",
              "      fill: #D2E3FC;\n",
              "    }\n",
              "\n",
              "    [theme=dark] .colab-df-convert:hover {\n",
              "      background-color: #434B5C;\n",
              "      box-shadow: 0px 1px 3px 1px rgba(0, 0, 0, 0.15);\n",
              "      filter: drop-shadow(0px 1px 2px rgba(0, 0, 0, 0.3));\n",
              "      fill: #FFFFFF;\n",
              "    }\n",
              "  </style>\n",
              "\n",
              "    <script>\n",
              "      const buttonEl =\n",
              "        document.querySelector('#df-4872a5f3-85a0-4c44-bbab-907d377c80d6 button.colab-df-convert');\n",
              "      buttonEl.style.display =\n",
              "        google.colab.kernel.accessAllowed ? 'block' : 'none';\n",
              "\n",
              "      async function convertToInteractive(key) {\n",
              "        const element = document.querySelector('#df-4872a5f3-85a0-4c44-bbab-907d377c80d6');\n",
              "        const dataTable =\n",
              "          await google.colab.kernel.invokeFunction('convertToInteractive',\n",
              "                                                    [key], {});\n",
              "        if (!dataTable) return;\n",
              "\n",
              "        const docLinkHtml = 'Like what you see? Visit the ' +\n",
              "          '<a target=\"_blank\" href=https://colab.research.google.com/notebooks/data_table.ipynb>data table notebook</a>'\n",
              "          + ' to learn more about interactive tables.';\n",
              "        element.innerHTML = '';\n",
              "        dataTable['output_type'] = 'display_data';\n",
              "        await google.colab.output.renderOutput(dataTable, element);\n",
              "        const docLink = document.createElement('div');\n",
              "        docLink.innerHTML = docLinkHtml;\n",
              "        element.appendChild(docLink);\n",
              "      }\n",
              "    </script>\n",
              "  </div>\n",
              "\n",
              "\n",
              "    <div id=\"df-191255e4-d6db-4287-8220-2c9758cdb861\">\n",
              "      <button class=\"colab-df-quickchart\" onclick=\"quickchart('df-191255e4-d6db-4287-8220-2c9758cdb861')\"\n",
              "                title=\"Suggest charts\"\n",
              "                style=\"display:none;\">\n",
              "\n",
              "<svg xmlns=\"http://www.w3.org/2000/svg\" height=\"24px\"viewBox=\"0 0 24 24\"\n",
              "     width=\"24px\">\n",
              "    <g>\n",
              "        <path d=\"M19 3H5c-1.1 0-2 .9-2 2v14c0 1.1.9 2 2 2h14c1.1 0 2-.9 2-2V5c0-1.1-.9-2-2-2zM9 17H7v-7h2v7zm4 0h-2V7h2v10zm4 0h-2v-4h2v4z\"/>\n",
              "    </g>\n",
              "</svg>\n",
              "      </button>\n",
              "\n",
              "<style>\n",
              "  .colab-df-quickchart {\n",
              "      --bg-color: #E8F0FE;\n",
              "      --fill-color: #1967D2;\n",
              "      --hover-bg-color: #E2EBFA;\n",
              "      --hover-fill-color: #174EA6;\n",
              "      --disabled-fill-color: #AAA;\n",
              "      --disabled-bg-color: #DDD;\n",
              "  }\n",
              "\n",
              "  [theme=dark] .colab-df-quickchart {\n",
              "      --bg-color: #3B4455;\n",
              "      --fill-color: #D2E3FC;\n",
              "      --hover-bg-color: #434B5C;\n",
              "      --hover-fill-color: #FFFFFF;\n",
              "      --disabled-bg-color: #3B4455;\n",
              "      --disabled-fill-color: #666;\n",
              "  }\n",
              "\n",
              "  .colab-df-quickchart {\n",
              "    background-color: var(--bg-color);\n",
              "    border: none;\n",
              "    border-radius: 50%;\n",
              "    cursor: pointer;\n",
              "    display: none;\n",
              "    fill: var(--fill-color);\n",
              "    height: 32px;\n",
              "    padding: 0;\n",
              "    width: 32px;\n",
              "  }\n",
              "\n",
              "  .colab-df-quickchart:hover {\n",
              "    background-color: var(--hover-bg-color);\n",
              "    box-shadow: 0 1px 2px rgba(60, 64, 67, 0.3), 0 1px 3px 1px rgba(60, 64, 67, 0.15);\n",
              "    fill: var(--button-hover-fill-color);\n",
              "  }\n",
              "\n",
              "  .colab-df-quickchart-complete:disabled,\n",
              "  .colab-df-quickchart-complete:disabled:hover {\n",
              "    background-color: var(--disabled-bg-color);\n",
              "    fill: var(--disabled-fill-color);\n",
              "    box-shadow: none;\n",
              "  }\n",
              "\n",
              "  .colab-df-spinner {\n",
              "    border: 2px solid var(--fill-color);\n",
              "    border-color: transparent;\n",
              "    border-bottom-color: var(--fill-color);\n",
              "    animation:\n",
              "      spin 1s steps(1) infinite;\n",
              "  }\n",
              "\n",
              "  @keyframes spin {\n",
              "    0% {\n",
              "      border-color: transparent;\n",
              "      border-bottom-color: var(--fill-color);\n",
              "      border-left-color: var(--fill-color);\n",
              "    }\n",
              "    20% {\n",
              "      border-color: transparent;\n",
              "      border-left-color: var(--fill-color);\n",
              "      border-top-color: var(--fill-color);\n",
              "    }\n",
              "    30% {\n",
              "      border-color: transparent;\n",
              "      border-left-color: var(--fill-color);\n",
              "      border-top-color: var(--fill-color);\n",
              "      border-right-color: var(--fill-color);\n",
              "    }\n",
              "    40% {\n",
              "      border-color: transparent;\n",
              "      border-right-color: var(--fill-color);\n",
              "      border-top-color: var(--fill-color);\n",
              "    }\n",
              "    60% {\n",
              "      border-color: transparent;\n",
              "      border-right-color: var(--fill-color);\n",
              "    }\n",
              "    80% {\n",
              "      border-color: transparent;\n",
              "      border-right-color: var(--fill-color);\n",
              "      border-bottom-color: var(--fill-color);\n",
              "    }\n",
              "    90% {\n",
              "      border-color: transparent;\n",
              "      border-bottom-color: var(--fill-color);\n",
              "    }\n",
              "  }\n",
              "</style>\n",
              "\n",
              "      <script>\n",
              "        async function quickchart(key) {\n",
              "          const quickchartButtonEl =\n",
              "            document.querySelector('#' + key + ' button');\n",
              "          quickchartButtonEl.disabled = true;  // To prevent multiple clicks.\n",
              "          quickchartButtonEl.classList.add('colab-df-spinner');\n",
              "          try {\n",
              "            const charts = await google.colab.kernel.invokeFunction(\n",
              "                'suggestCharts', [key], {});\n",
              "          } catch (error) {\n",
              "            console.error('Error during call to suggestCharts:', error);\n",
              "          }\n",
              "          quickchartButtonEl.classList.remove('colab-df-spinner');\n",
              "          quickchartButtonEl.classList.add('colab-df-quickchart-complete');\n",
              "        }\n",
              "        (() => {\n",
              "          let quickchartButtonEl =\n",
              "            document.querySelector('#df-191255e4-d6db-4287-8220-2c9758cdb861 button');\n",
              "          quickchartButtonEl.style.display =\n",
              "            google.colab.kernel.accessAllowed ? 'block' : 'none';\n",
              "        })();\n",
              "      </script>\n",
              "    </div>\n",
              "\n",
              "    </div>\n",
              "  </div>\n"
            ],
            "application/vnd.google.colaboratory.intrinsic+json": {
              "type": "dataframe",
              "variable_name": "df",
              "summary": "{\n  \"name\": \"df\",\n  \"rows\": 50,\n  \"fields\": [\n    {\n      \"column\": \"artist\",\n      \"properties\": {\n        \"dtype\": \"string\",\n        \"num_unique_values\": 40,\n        \"samples\": [\n          \"Jawsh 685\",\n          \"Doja Cat\",\n          \"Drake\"\n        ],\n        \"semantic_type\": \"\",\n        \"description\": \"\"\n      }\n    },\n    {\n      \"column\": \"album\",\n      \"properties\": {\n        \"dtype\": \"string\",\n        \"num_unique_values\": 45,\n        \"samples\": [\n          \"YHLQMDLG\",\n          \"WHEN WE ALL FALL ASLEEP, WHERE DO WE GO?\",\n          \"WAP (feat. Megan Thee Stallion)\"\n        ],\n        \"semantic_type\": \"\",\n        \"description\": \"\"\n      }\n    },\n    {\n      \"column\": \"track_name\",\n      \"properties\": {\n        \"dtype\": \"string\",\n        \"num_unique_values\": 50,\n        \"samples\": [\n          \"Blueberry Faygo\",\n          \"Ride It\",\n          \"Yummy\"\n        ],\n        \"semantic_type\": \"\",\n        \"description\": \"\"\n      }\n    },\n    {\n      \"column\": \"track_id\",\n      \"properties\": {\n        \"dtype\": \"string\",\n        \"num_unique_values\": 50,\n        \"samples\": [\n          \"22LAwLoDA5b4AaGSkg6bKW\",\n          \"2tnVG71enUj33Ic2nFN6kZ\",\n          \"16wAOAZ2OkqoIDN7TpChjR\"\n        ],\n        \"semantic_type\": \"\",\n        \"description\": \"\"\n      }\n    },\n    {\n      \"column\": \"energy\",\n      \"properties\": {\n        \"dtype\": \"number\",\n        \"std\": 0.15434816857629746,\n        \"min\": 0.225,\n        \"max\": 0.855,\n        \"num_unique_values\": 49,\n        \"samples\": [\n          0.554,\n          0.566,\n          0.473\n        ],\n        \"semantic_type\": \"\",\n        \"description\": \"\"\n      }\n    },\n    {\n      \"column\": \"danceability\",\n      \"properties\": {\n        \"dtype\": \"number\",\n        \"std\": 0.12497526939032248,\n        \"min\": 0.351,\n        \"max\": 0.935,\n        \"num_unique_values\": 48,\n        \"samples\": [\n          0.935,\n          0.716,\n          0.701\n        ],\n        \"semantic_type\": \"\",\n        \"description\": \"\"\n      }\n    },\n    {\n      \"column\": \"key\",\n      \"properties\": {\n        \"dtype\": \"number\",\n        \"std\": 3,\n        \"min\": 0,\n        \"max\": 11,\n        \"num_unique_values\": 12,\n        \"samples\": [\n          5,\n          7,\n          1\n        ],\n        \"semantic_type\": \"\",\n        \"description\": \"\"\n      }\n    },\n    {\n      \"column\": \"loudness\",\n      \"properties\": {\n        \"dtype\": \"number\",\n        \"std\": 2.3497437571977495,\n        \"min\": -14.454,\n        \"max\": -3.28,\n        \"num_unique_values\": 50,\n        \"samples\": [\n          -7.909,\n          -4.258,\n          -6.652\n        ],\n        \"semantic_type\": \"\",\n        \"description\": \"\"\n      }\n    },\n    {\n      \"column\": \"acousticness\",\n      \"properties\": {\n        \"dtype\": \"number\",\n        \"std\": 0.2652504754200667,\n        \"min\": 0.00146,\n        \"max\": 0.934,\n        \"num_unique_values\": 49,\n        \"samples\": [\n          0.207,\n          0.349,\n          0.0137\n        ],\n        \"semantic_type\": \"\",\n        \"description\": \"\"\n      }\n    },\n    {\n      \"column\": \"speechiness\",\n      \"properties\": {\n        \"dtype\": \"number\",\n        \"std\": 0.116836367503567,\n        \"min\": 0.029,\n        \"max\": 0.487,\n        \"num_unique_values\": 48,\n        \"samples\": [\n          0.0578,\n          0.0514,\n          0.375\n        ],\n        \"semantic_type\": \"\",\n        \"description\": \"\"\n      }\n    },\n    {\n      \"column\": \"instrumentalness\",\n      \"properties\": {\n        \"dtype\": \"number\",\n        \"std\": 0.09431165145317491,\n        \"min\": 0.0,\n        \"max\": 0.657,\n        \"num_unique_values\": 19,\n        \"samples\": [\n          9.54e-05,\n          0.00244,\n          1.39e-06\n        ],\n        \"semantic_type\": \"\",\n        \"description\": \"\"\n      }\n    },\n    {\n      \"column\": \"liveness\",\n      \"properties\": {\n        \"dtype\": \"number\",\n        \"std\": 0.176609946376708,\n        \"min\": 0.0574,\n        \"max\": 0.792,\n        \"num_unique_values\": 47,\n        \"samples\": [\n          0.0714,\n          0.792,\n          0.0824\n        ],\n        \"semantic_type\": \"\",\n        \"description\": \"\"\n      }\n    },\n    {\n      \"column\": \"valence\",\n      \"properties\": {\n        \"dtype\": \"number\",\n        \"std\": 0.21638641951615262,\n        \"min\": 0.0605,\n        \"max\": 0.925,\n        \"num_unique_values\": 47,\n        \"samples\": [\n          0.357,\n          0.43,\n          0.562\n        ],\n        \"semantic_type\": \"\",\n        \"description\": \"\"\n      }\n    },\n    {\n      \"column\": \"tempo\",\n      \"properties\": {\n        \"dtype\": \"number\",\n        \"std\": 25.414778362855365,\n        \"min\": 75.801,\n        \"max\": 180.067,\n        \"num_unique_values\": 50,\n        \"samples\": [\n          99.034,\n          117.948,\n          145.842\n        ],\n        \"semantic_type\": \"\",\n        \"description\": \"\"\n      }\n    },\n    {\n      \"column\": \"duration_ms\",\n      \"properties\": {\n        \"dtype\": \"number\",\n        \"std\": 33996,\n        \"min\": 140526,\n        \"max\": 312820,\n        \"num_unique_values\": 50,\n        \"samples\": [\n          162547,\n          157606,\n          208520\n        ],\n        \"semantic_type\": \"\",\n        \"description\": \"\"\n      }\n    },\n    {\n      \"column\": \"genre\",\n      \"properties\": {\n        \"dtype\": \"category\",\n        \"num_unique_values\": 16,\n        \"samples\": [\n          \"R&B/Soul\",\n          \"Alternative/Indie\",\n          \"Pop\"\n        ],\n        \"semantic_type\": \"\",\n        \"description\": \"\"\n      }\n    }\n  ]\n}"
            }
          },
          "metadata": {},
          "execution_count": 79
        }
      ]
    },
    {
      "cell_type": "markdown",
      "source": [
        "For further analysis purpose, here are the **definitions of each available metrics**:\n",
        "- *Energy*: A measure of intensity and activity—high energy often means fast, loud, and dynamic.\n",
        "- *Danceability*: How suitable a track is for dancing, based on tempo, rhythm stability, beat strength, and style.\n",
        "- *Key*: The musical key of the track, represented as integers 0–11 corresponding to pitch classes.\n",
        "- *Loudness*: The average volume of the song in decibels; louder tracks have higher values (less negative).\n",
        "-Acousticness: The likelihood that a track is acoustic—higher values mean more acoustic sound.\n",
        "- *Speechiness*: Detects the presence of spoken words; high values suggest speech-like content (like podcasts or rap).\n",
        "- *Instrumentalness*: Predicts whether a track contains vocals—closer to 1 means more instrumental.\n",
        "- *Liveness*: Estimates the presence of an audience or live performance elements.\n",
        "- *Valence*: Describes the musical “positivity” or emotional tone—high valence sounds more cheerful.\n",
        "- *Tempo*: The speed or pace of the track in beats per minute (BPM).\n",
        "- *Duration_ms*: The track’s total length measured in milliseconds.\n",
        "- *Genre*: The category or style of music, like Pop, Hip-Hop/Rap, or Dance/Electronic."
      ],
      "metadata": {
        "id": "yCIA-J0K-x2R"
      }
    },
    {
      "cell_type": "markdown",
      "source": [
        "This is a small dataset, however I have doublechecked if there are duplicated rows within it. Running the code block below will return no values, which means that all rows are unique."
      ],
      "metadata": {
        "id": "hkt_hhWDurhX"
      }
    },
    {
      "cell_type": "code",
      "source": [
        "df[df.duplicated()]"
      ],
      "metadata": {
        "id": "04r_ke9lMv97",
        "colab": {
          "base_uri": "https://localhost:8080/",
          "height": 53
        },
        "outputId": "429265e2-25c9-422f-a694-bee220be588e"
      },
      "execution_count": 49,
      "outputs": [
        {
          "output_type": "execute_result",
          "data": {
            "text/plain": [
              "Empty DataFrame\n",
              "Columns: [Rank, artist, album, track_name, track_id, energy, danceability, key, loudness, acousticness, speechiness, instrumentalness, liveness, valence, tempo, duration_ms, genre]\n",
              "Index: []"
            ],
            "text/html": [
              "\n",
              "  <div id=\"df-003eda31-3cb5-4677-9c2c-2de95bd24b69\" class=\"colab-df-container\">\n",
              "    <div>\n",
              "<style scoped>\n",
              "    .dataframe tbody tr th:only-of-type {\n",
              "        vertical-align: middle;\n",
              "    }\n",
              "\n",
              "    .dataframe tbody tr th {\n",
              "        vertical-align: top;\n",
              "    }\n",
              "\n",
              "    .dataframe thead th {\n",
              "        text-align: right;\n",
              "    }\n",
              "</style>\n",
              "<table border=\"1\" class=\"dataframe\">\n",
              "  <thead>\n",
              "    <tr style=\"text-align: right;\">\n",
              "      <th></th>\n",
              "      <th>Rank</th>\n",
              "      <th>artist</th>\n",
              "      <th>album</th>\n",
              "      <th>track_name</th>\n",
              "      <th>track_id</th>\n",
              "      <th>energy</th>\n",
              "      <th>danceability</th>\n",
              "      <th>key</th>\n",
              "      <th>loudness</th>\n",
              "      <th>acousticness</th>\n",
              "      <th>speechiness</th>\n",
              "      <th>instrumentalness</th>\n",
              "      <th>liveness</th>\n",
              "      <th>valence</th>\n",
              "      <th>tempo</th>\n",
              "      <th>duration_ms</th>\n",
              "      <th>genre</th>\n",
              "    </tr>\n",
              "  </thead>\n",
              "  <tbody>\n",
              "  </tbody>\n",
              "</table>\n",
              "</div>\n",
              "    <div class=\"colab-df-buttons\">\n",
              "\n",
              "  <div class=\"colab-df-container\">\n",
              "    <button class=\"colab-df-convert\" onclick=\"convertToInteractive('df-003eda31-3cb5-4677-9c2c-2de95bd24b69')\"\n",
              "            title=\"Convert this dataframe to an interactive table.\"\n",
              "            style=\"display:none;\">\n",
              "\n",
              "  <svg xmlns=\"http://www.w3.org/2000/svg\" height=\"24px\" viewBox=\"0 -960 960 960\">\n",
              "    <path d=\"M120-120v-720h720v720H120Zm60-500h600v-160H180v160Zm220 220h160v-160H400v160Zm0 220h160v-160H400v160ZM180-400h160v-160H180v160Zm440 0h160v-160H620v160ZM180-180h160v-160H180v160Zm440 0h160v-160H620v160Z\"/>\n",
              "  </svg>\n",
              "    </button>\n",
              "\n",
              "  <style>\n",
              "    .colab-df-container {\n",
              "      display:flex;\n",
              "      gap: 12px;\n",
              "    }\n",
              "\n",
              "    .colab-df-convert {\n",
              "      background-color: #E8F0FE;\n",
              "      border: none;\n",
              "      border-radius: 50%;\n",
              "      cursor: pointer;\n",
              "      display: none;\n",
              "      fill: #1967D2;\n",
              "      height: 32px;\n",
              "      padding: 0 0 0 0;\n",
              "      width: 32px;\n",
              "    }\n",
              "\n",
              "    .colab-df-convert:hover {\n",
              "      background-color: #E2EBFA;\n",
              "      box-shadow: 0px 1px 2px rgba(60, 64, 67, 0.3), 0px 1px 3px 1px rgba(60, 64, 67, 0.15);\n",
              "      fill: #174EA6;\n",
              "    }\n",
              "\n",
              "    .colab-df-buttons div {\n",
              "      margin-bottom: 4px;\n",
              "    }\n",
              "\n",
              "    [theme=dark] .colab-df-convert {\n",
              "      background-color: #3B4455;\n",
              "      fill: #D2E3FC;\n",
              "    }\n",
              "\n",
              "    [theme=dark] .colab-df-convert:hover {\n",
              "      background-color: #434B5C;\n",
              "      box-shadow: 0px 1px 3px 1px rgba(0, 0, 0, 0.15);\n",
              "      filter: drop-shadow(0px 1px 2px rgba(0, 0, 0, 0.3));\n",
              "      fill: #FFFFFF;\n",
              "    }\n",
              "  </style>\n",
              "\n",
              "    <script>\n",
              "      const buttonEl =\n",
              "        document.querySelector('#df-003eda31-3cb5-4677-9c2c-2de95bd24b69 button.colab-df-convert');\n",
              "      buttonEl.style.display =\n",
              "        google.colab.kernel.accessAllowed ? 'block' : 'none';\n",
              "\n",
              "      async function convertToInteractive(key) {\n",
              "        const element = document.querySelector('#df-003eda31-3cb5-4677-9c2c-2de95bd24b69');\n",
              "        const dataTable =\n",
              "          await google.colab.kernel.invokeFunction('convertToInteractive',\n",
              "                                                    [key], {});\n",
              "        if (!dataTable) return;\n",
              "\n",
              "        const docLinkHtml = 'Like what you see? Visit the ' +\n",
              "          '<a target=\"_blank\" href=https://colab.research.google.com/notebooks/data_table.ipynb>data table notebook</a>'\n",
              "          + ' to learn more about interactive tables.';\n",
              "        element.innerHTML = '';\n",
              "        dataTable['output_type'] = 'display_data';\n",
              "        await google.colab.output.renderOutput(dataTable, element);\n",
              "        const docLink = document.createElement('div');\n",
              "        docLink.innerHTML = docLinkHtml;\n",
              "        element.appendChild(docLink);\n",
              "      }\n",
              "    </script>\n",
              "  </div>\n",
              "\n",
              "\n",
              "    </div>\n",
              "  </div>\n"
            ],
            "application/vnd.google.colaboratory.intrinsic+json": {
              "type": "dataframe",
              "repr_error": "Out of range float values are not JSON compliant: nan"
            }
          },
          "metadata": {},
          "execution_count": 49
        }
      ]
    },
    {
      "cell_type": "markdown",
      "source": [
        "To explore dataset further, I have used *describe* function to get summary on the central tendency, spread and shape of the dataset's distribution.\n",
        "\n",
        "Running this code helped me to:\n",
        "- Confirm that all columns have 50 values (count)\n",
        "- Identify *mean* and standard deviation of each feature\n",
        "- Find the minimum and maximum values of each feature\n",
        "- Get a sense of how the data is distributed (percentiles)\n",
        "\n",
        "\n",
        "\n"
      ],
      "metadata": {
        "id": "bBPawucOwnk3"
      }
    },
    {
      "cell_type": "code",
      "source": [
        "df.describe()"
      ],
      "metadata": {
        "id": "hdWChToBDmlB",
        "colab": {
          "base_uri": "https://localhost:8080/",
          "height": 300
        },
        "outputId": "01a0e7b6-189e-402f-ba47-58b3e434ea53"
      },
      "execution_count": 80,
      "outputs": [
        {
          "output_type": "execute_result",
          "data": {
            "text/plain": [
              "          energy  danceability        key   loudness  acousticness  \\\n",
              "count  50.000000     50.000000  50.000000  50.000000     50.000000   \n",
              "mean    0.609300      0.716720   5.720000  -6.225900      0.256206   \n",
              "std     0.154348      0.124975   3.709007   2.349744      0.265250   \n",
              "min     0.225000      0.351000   0.000000 -14.454000      0.001460   \n",
              "25%     0.494000      0.672500   2.000000  -7.552500      0.052800   \n",
              "50%     0.597000      0.746000   6.500000  -5.991500      0.188500   \n",
              "75%     0.729750      0.794500   8.750000  -4.285500      0.298750   \n",
              "max     0.855000      0.935000  11.000000  -3.280000      0.934000   \n",
              "\n",
              "       speechiness  instrumentalness   liveness    valence       tempo  \\\n",
              "count    50.000000         50.000000  50.000000  50.000000   50.000000   \n",
              "mean      0.124158          0.015962   0.196552   0.555710  119.690460   \n",
              "std       0.116836          0.094312   0.176610   0.216386   25.414778   \n",
              "min       0.029000          0.000000   0.057400   0.060500   75.801000   \n",
              "25%       0.048325          0.000000   0.093950   0.434000   99.557250   \n",
              "50%       0.070050          0.000000   0.111000   0.560000  116.969000   \n",
              "75%       0.155500          0.000020   0.271250   0.726250  132.317000   \n",
              "max       0.487000          0.657000   0.792000   0.925000  180.067000   \n",
              "\n",
              "         duration_ms  \n",
              "count      50.000000  \n",
              "mean   199955.360000  \n",
              "std     33996.122488  \n",
              "min    140526.000000  \n",
              "25%    175845.500000  \n",
              "50%    197853.500000  \n",
              "75%    215064.000000  \n",
              "max    312820.000000  "
            ],
            "text/html": [
              "\n",
              "  <div id=\"df-ae867e9f-c442-49c7-884e-0931b22d0bdb\" class=\"colab-df-container\">\n",
              "    <div>\n",
              "<style scoped>\n",
              "    .dataframe tbody tr th:only-of-type {\n",
              "        vertical-align: middle;\n",
              "    }\n",
              "\n",
              "    .dataframe tbody tr th {\n",
              "        vertical-align: top;\n",
              "    }\n",
              "\n",
              "    .dataframe thead th {\n",
              "        text-align: right;\n",
              "    }\n",
              "</style>\n",
              "<table border=\"1\" class=\"dataframe\">\n",
              "  <thead>\n",
              "    <tr style=\"text-align: right;\">\n",
              "      <th></th>\n",
              "      <th>energy</th>\n",
              "      <th>danceability</th>\n",
              "      <th>key</th>\n",
              "      <th>loudness</th>\n",
              "      <th>acousticness</th>\n",
              "      <th>speechiness</th>\n",
              "      <th>instrumentalness</th>\n",
              "      <th>liveness</th>\n",
              "      <th>valence</th>\n",
              "      <th>tempo</th>\n",
              "      <th>duration_ms</th>\n",
              "    </tr>\n",
              "  </thead>\n",
              "  <tbody>\n",
              "    <tr>\n",
              "      <th>count</th>\n",
              "      <td>50.000000</td>\n",
              "      <td>50.000000</td>\n",
              "      <td>50.000000</td>\n",
              "      <td>50.000000</td>\n",
              "      <td>50.000000</td>\n",
              "      <td>50.000000</td>\n",
              "      <td>50.000000</td>\n",
              "      <td>50.000000</td>\n",
              "      <td>50.000000</td>\n",
              "      <td>50.000000</td>\n",
              "      <td>50.000000</td>\n",
              "    </tr>\n",
              "    <tr>\n",
              "      <th>mean</th>\n",
              "      <td>0.609300</td>\n",
              "      <td>0.716720</td>\n",
              "      <td>5.720000</td>\n",
              "      <td>-6.225900</td>\n",
              "      <td>0.256206</td>\n",
              "      <td>0.124158</td>\n",
              "      <td>0.015962</td>\n",
              "      <td>0.196552</td>\n",
              "      <td>0.555710</td>\n",
              "      <td>119.690460</td>\n",
              "      <td>199955.360000</td>\n",
              "    </tr>\n",
              "    <tr>\n",
              "      <th>std</th>\n",
              "      <td>0.154348</td>\n",
              "      <td>0.124975</td>\n",
              "      <td>3.709007</td>\n",
              "      <td>2.349744</td>\n",
              "      <td>0.265250</td>\n",
              "      <td>0.116836</td>\n",
              "      <td>0.094312</td>\n",
              "      <td>0.176610</td>\n",
              "      <td>0.216386</td>\n",
              "      <td>25.414778</td>\n",
              "      <td>33996.122488</td>\n",
              "    </tr>\n",
              "    <tr>\n",
              "      <th>min</th>\n",
              "      <td>0.225000</td>\n",
              "      <td>0.351000</td>\n",
              "      <td>0.000000</td>\n",
              "      <td>-14.454000</td>\n",
              "      <td>0.001460</td>\n",
              "      <td>0.029000</td>\n",
              "      <td>0.000000</td>\n",
              "      <td>0.057400</td>\n",
              "      <td>0.060500</td>\n",
              "      <td>75.801000</td>\n",
              "      <td>140526.000000</td>\n",
              "    </tr>\n",
              "    <tr>\n",
              "      <th>25%</th>\n",
              "      <td>0.494000</td>\n",
              "      <td>0.672500</td>\n",
              "      <td>2.000000</td>\n",
              "      <td>-7.552500</td>\n",
              "      <td>0.052800</td>\n",
              "      <td>0.048325</td>\n",
              "      <td>0.000000</td>\n",
              "      <td>0.093950</td>\n",
              "      <td>0.434000</td>\n",
              "      <td>99.557250</td>\n",
              "      <td>175845.500000</td>\n",
              "    </tr>\n",
              "    <tr>\n",
              "      <th>50%</th>\n",
              "      <td>0.597000</td>\n",
              "      <td>0.746000</td>\n",
              "      <td>6.500000</td>\n",
              "      <td>-5.991500</td>\n",
              "      <td>0.188500</td>\n",
              "      <td>0.070050</td>\n",
              "      <td>0.000000</td>\n",
              "      <td>0.111000</td>\n",
              "      <td>0.560000</td>\n",
              "      <td>116.969000</td>\n",
              "      <td>197853.500000</td>\n",
              "    </tr>\n",
              "    <tr>\n",
              "      <th>75%</th>\n",
              "      <td>0.729750</td>\n",
              "      <td>0.794500</td>\n",
              "      <td>8.750000</td>\n",
              "      <td>-4.285500</td>\n",
              "      <td>0.298750</td>\n",
              "      <td>0.155500</td>\n",
              "      <td>0.000020</td>\n",
              "      <td>0.271250</td>\n",
              "      <td>0.726250</td>\n",
              "      <td>132.317000</td>\n",
              "      <td>215064.000000</td>\n",
              "    </tr>\n",
              "    <tr>\n",
              "      <th>max</th>\n",
              "      <td>0.855000</td>\n",
              "      <td>0.935000</td>\n",
              "      <td>11.000000</td>\n",
              "      <td>-3.280000</td>\n",
              "      <td>0.934000</td>\n",
              "      <td>0.487000</td>\n",
              "      <td>0.657000</td>\n",
              "      <td>0.792000</td>\n",
              "      <td>0.925000</td>\n",
              "      <td>180.067000</td>\n",
              "      <td>312820.000000</td>\n",
              "    </tr>\n",
              "  </tbody>\n",
              "</table>\n",
              "</div>\n",
              "    <div class=\"colab-df-buttons\">\n",
              "\n",
              "  <div class=\"colab-df-container\">\n",
              "    <button class=\"colab-df-convert\" onclick=\"convertToInteractive('df-ae867e9f-c442-49c7-884e-0931b22d0bdb')\"\n",
              "            title=\"Convert this dataframe to an interactive table.\"\n",
              "            style=\"display:none;\">\n",
              "\n",
              "  <svg xmlns=\"http://www.w3.org/2000/svg\" height=\"24px\" viewBox=\"0 -960 960 960\">\n",
              "    <path d=\"M120-120v-720h720v720H120Zm60-500h600v-160H180v160Zm220 220h160v-160H400v160Zm0 220h160v-160H400v160ZM180-400h160v-160H180v160Zm440 0h160v-160H620v160ZM180-180h160v-160H180v160Zm440 0h160v-160H620v160Z\"/>\n",
              "  </svg>\n",
              "    </button>\n",
              "\n",
              "  <style>\n",
              "    .colab-df-container {\n",
              "      display:flex;\n",
              "      gap: 12px;\n",
              "    }\n",
              "\n",
              "    .colab-df-convert {\n",
              "      background-color: #E8F0FE;\n",
              "      border: none;\n",
              "      border-radius: 50%;\n",
              "      cursor: pointer;\n",
              "      display: none;\n",
              "      fill: #1967D2;\n",
              "      height: 32px;\n",
              "      padding: 0 0 0 0;\n",
              "      width: 32px;\n",
              "    }\n",
              "\n",
              "    .colab-df-convert:hover {\n",
              "      background-color: #E2EBFA;\n",
              "      box-shadow: 0px 1px 2px rgba(60, 64, 67, 0.3), 0px 1px 3px 1px rgba(60, 64, 67, 0.15);\n",
              "      fill: #174EA6;\n",
              "    }\n",
              "\n",
              "    .colab-df-buttons div {\n",
              "      margin-bottom: 4px;\n",
              "    }\n",
              "\n",
              "    [theme=dark] .colab-df-convert {\n",
              "      background-color: #3B4455;\n",
              "      fill: #D2E3FC;\n",
              "    }\n",
              "\n",
              "    [theme=dark] .colab-df-convert:hover {\n",
              "      background-color: #434B5C;\n",
              "      box-shadow: 0px 1px 3px 1px rgba(0, 0, 0, 0.15);\n",
              "      filter: drop-shadow(0px 1px 2px rgba(0, 0, 0, 0.3));\n",
              "      fill: #FFFFFF;\n",
              "    }\n",
              "  </style>\n",
              "\n",
              "    <script>\n",
              "      const buttonEl =\n",
              "        document.querySelector('#df-ae867e9f-c442-49c7-884e-0931b22d0bdb button.colab-df-convert');\n",
              "      buttonEl.style.display =\n",
              "        google.colab.kernel.accessAllowed ? 'block' : 'none';\n",
              "\n",
              "      async function convertToInteractive(key) {\n",
              "        const element = document.querySelector('#df-ae867e9f-c442-49c7-884e-0931b22d0bdb');\n",
              "        const dataTable =\n",
              "          await google.colab.kernel.invokeFunction('convertToInteractive',\n",
              "                                                    [key], {});\n",
              "        if (!dataTable) return;\n",
              "\n",
              "        const docLinkHtml = 'Like what you see? Visit the ' +\n",
              "          '<a target=\"_blank\" href=https://colab.research.google.com/notebooks/data_table.ipynb>data table notebook</a>'\n",
              "          + ' to learn more about interactive tables.';\n",
              "        element.innerHTML = '';\n",
              "        dataTable['output_type'] = 'display_data';\n",
              "        await google.colab.output.renderOutput(dataTable, element);\n",
              "        const docLink = document.createElement('div');\n",
              "        docLink.innerHTML = docLinkHtml;\n",
              "        element.appendChild(docLink);\n",
              "      }\n",
              "    </script>\n",
              "  </div>\n",
              "\n",
              "\n",
              "    <div id=\"df-a3445ab8-6a6c-4fb3-9f30-8d1c9c86d91a\">\n",
              "      <button class=\"colab-df-quickchart\" onclick=\"quickchart('df-a3445ab8-6a6c-4fb3-9f30-8d1c9c86d91a')\"\n",
              "                title=\"Suggest charts\"\n",
              "                style=\"display:none;\">\n",
              "\n",
              "<svg xmlns=\"http://www.w3.org/2000/svg\" height=\"24px\"viewBox=\"0 0 24 24\"\n",
              "     width=\"24px\">\n",
              "    <g>\n",
              "        <path d=\"M19 3H5c-1.1 0-2 .9-2 2v14c0 1.1.9 2 2 2h14c1.1 0 2-.9 2-2V5c0-1.1-.9-2-2-2zM9 17H7v-7h2v7zm4 0h-2V7h2v10zm4 0h-2v-4h2v4z\"/>\n",
              "    </g>\n",
              "</svg>\n",
              "      </button>\n",
              "\n",
              "<style>\n",
              "  .colab-df-quickchart {\n",
              "      --bg-color: #E8F0FE;\n",
              "      --fill-color: #1967D2;\n",
              "      --hover-bg-color: #E2EBFA;\n",
              "      --hover-fill-color: #174EA6;\n",
              "      --disabled-fill-color: #AAA;\n",
              "      --disabled-bg-color: #DDD;\n",
              "  }\n",
              "\n",
              "  [theme=dark] .colab-df-quickchart {\n",
              "      --bg-color: #3B4455;\n",
              "      --fill-color: #D2E3FC;\n",
              "      --hover-bg-color: #434B5C;\n",
              "      --hover-fill-color: #FFFFFF;\n",
              "      --disabled-bg-color: #3B4455;\n",
              "      --disabled-fill-color: #666;\n",
              "  }\n",
              "\n",
              "  .colab-df-quickchart {\n",
              "    background-color: var(--bg-color);\n",
              "    border: none;\n",
              "    border-radius: 50%;\n",
              "    cursor: pointer;\n",
              "    display: none;\n",
              "    fill: var(--fill-color);\n",
              "    height: 32px;\n",
              "    padding: 0;\n",
              "    width: 32px;\n",
              "  }\n",
              "\n",
              "  .colab-df-quickchart:hover {\n",
              "    background-color: var(--hover-bg-color);\n",
              "    box-shadow: 0 1px 2px rgba(60, 64, 67, 0.3), 0 1px 3px 1px rgba(60, 64, 67, 0.15);\n",
              "    fill: var(--button-hover-fill-color);\n",
              "  }\n",
              "\n",
              "  .colab-df-quickchart-complete:disabled,\n",
              "  .colab-df-quickchart-complete:disabled:hover {\n",
              "    background-color: var(--disabled-bg-color);\n",
              "    fill: var(--disabled-fill-color);\n",
              "    box-shadow: none;\n",
              "  }\n",
              "\n",
              "  .colab-df-spinner {\n",
              "    border: 2px solid var(--fill-color);\n",
              "    border-color: transparent;\n",
              "    border-bottom-color: var(--fill-color);\n",
              "    animation:\n",
              "      spin 1s steps(1) infinite;\n",
              "  }\n",
              "\n",
              "  @keyframes spin {\n",
              "    0% {\n",
              "      border-color: transparent;\n",
              "      border-bottom-color: var(--fill-color);\n",
              "      border-left-color: var(--fill-color);\n",
              "    }\n",
              "    20% {\n",
              "      border-color: transparent;\n",
              "      border-left-color: var(--fill-color);\n",
              "      border-top-color: var(--fill-color);\n",
              "    }\n",
              "    30% {\n",
              "      border-color: transparent;\n",
              "      border-left-color: var(--fill-color);\n",
              "      border-top-color: var(--fill-color);\n",
              "      border-right-color: var(--fill-color);\n",
              "    }\n",
              "    40% {\n",
              "      border-color: transparent;\n",
              "      border-right-color: var(--fill-color);\n",
              "      border-top-color: var(--fill-color);\n",
              "    }\n",
              "    60% {\n",
              "      border-color: transparent;\n",
              "      border-right-color: var(--fill-color);\n",
              "    }\n",
              "    80% {\n",
              "      border-color: transparent;\n",
              "      border-right-color: var(--fill-color);\n",
              "      border-bottom-color: var(--fill-color);\n",
              "    }\n",
              "    90% {\n",
              "      border-color: transparent;\n",
              "      border-bottom-color: var(--fill-color);\n",
              "    }\n",
              "  }\n",
              "</style>\n",
              "\n",
              "      <script>\n",
              "        async function quickchart(key) {\n",
              "          const quickchartButtonEl =\n",
              "            document.querySelector('#' + key + ' button');\n",
              "          quickchartButtonEl.disabled = true;  // To prevent multiple clicks.\n",
              "          quickchartButtonEl.classList.add('colab-df-spinner');\n",
              "          try {\n",
              "            const charts = await google.colab.kernel.invokeFunction(\n",
              "                'suggestCharts', [key], {});\n",
              "          } catch (error) {\n",
              "            console.error('Error during call to suggestCharts:', error);\n",
              "          }\n",
              "          quickchartButtonEl.classList.remove('colab-df-spinner');\n",
              "          quickchartButtonEl.classList.add('colab-df-quickchart-complete');\n",
              "        }\n",
              "        (() => {\n",
              "          let quickchartButtonEl =\n",
              "            document.querySelector('#df-a3445ab8-6a6c-4fb3-9f30-8d1c9c86d91a button');\n",
              "          quickchartButtonEl.style.display =\n",
              "            google.colab.kernel.accessAllowed ? 'block' : 'none';\n",
              "        })();\n",
              "      </script>\n",
              "    </div>\n",
              "\n",
              "    </div>\n",
              "  </div>\n"
            ],
            "application/vnd.google.colaboratory.intrinsic+json": {
              "type": "dataframe",
              "summary": "{\n  \"name\": \"df\",\n  \"rows\": 8,\n  \"fields\": [\n    {\n      \"column\": \"energy\",\n      \"properties\": {\n        \"dtype\": \"number\",\n        \"std\": 17.494187794236957,\n        \"min\": 0.15434816857629746,\n        \"max\": 50.0,\n        \"num_unique_values\": 8,\n        \"samples\": [\n          0.6093,\n          0.597,\n          50.0\n        ],\n        \"semantic_type\": \"\",\n        \"description\": \"\"\n      }\n    },\n    {\n      \"column\": \"danceability\",\n      \"properties\": {\n        \"dtype\": \"number\",\n        \"std\": 17.46037489198764,\n        \"min\": 0.12497526939032248,\n        \"max\": 50.0,\n        \"num_unique_values\": 8,\n        \"samples\": [\n          0.7167200000000001,\n          0.746,\n          50.0\n        ],\n        \"semantic_type\": \"\",\n        \"description\": \"\"\n      }\n    },\n    {\n      \"column\": \"key\",\n      \"properties\": {\n        \"dtype\": \"number\",\n        \"std\": 16.165821952974046,\n        \"min\": 0.0,\n        \"max\": 50.0,\n        \"num_unique_values\": 8,\n        \"samples\": [\n          5.72,\n          6.5,\n          50.0\n        ],\n        \"semantic_type\": \"\",\n        \"description\": \"\"\n      }\n    },\n    {\n      \"column\": \"loudness\",\n      \"properties\": {\n        \"dtype\": \"number\",\n        \"std\": 20.217825846623274,\n        \"min\": -14.454,\n        \"max\": 50.0,\n        \"num_unique_values\": 8,\n        \"samples\": [\n          -6.225899999999999,\n          -5.9915,\n          50.0\n        ],\n        \"semantic_type\": \"\",\n        \"description\": \"\"\n      }\n    },\n    {\n      \"column\": \"acousticness\",\n      \"properties\": {\n        \"dtype\": \"number\",\n        \"std\": 17.579108405311555,\n        \"min\": 0.00146,\n        \"max\": 50.0,\n        \"num_unique_values\": 8,\n        \"samples\": [\n          0.2562058,\n          0.1885,\n          50.0\n        ],\n        \"semantic_type\": \"\",\n        \"description\": \"\"\n      }\n    },\n    {\n      \"column\": \"speechiness\",\n      \"properties\": {\n        \"dtype\": \"number\",\n        \"std\": 17.626197203324775,\n        \"min\": 0.029,\n        \"max\": 50.0,\n        \"num_unique_values\": 8,\n        \"samples\": [\n          0.12415799999999999,\n          0.07005,\n          50.0\n        ],\n        \"semantic_type\": \"\",\n        \"description\": \"\"\n      }\n    },\n    {\n      \"column\": \"instrumentalness\",\n      \"properties\": {\n        \"dtype\": \"number\",\n        \"std\": 17.640359704686766,\n        \"min\": 0.0,\n        \"max\": 50.0,\n        \"num_unique_values\": 6,\n        \"samples\": [\n          50.0,\n          0.015961942599999997,\n          0.657\n        ],\n        \"semantic_type\": \"\",\n        \"description\": \"\"\n      }\n    },\n    {\n      \"column\": \"liveness\",\n      \"properties\": {\n        \"dtype\": \"number\",\n        \"std\": 17.593423521054465,\n        \"min\": 0.0574,\n        \"max\": 50.0,\n        \"num_unique_values\": 8,\n        \"samples\": [\n          0.19655200000000003,\n          0.111,\n          50.0\n        ],\n        \"semantic_type\": \"\",\n        \"description\": \"\"\n      }\n    },\n    {\n      \"column\": \"valence\",\n      \"properties\": {\n        \"dtype\": \"number\",\n        \"std\": 17.50411914701582,\n        \"min\": 0.0605,\n        \"max\": 50.0,\n        \"num_unique_values\": 8,\n        \"samples\": [\n          0.55571,\n          0.56,\n          50.0\n        ],\n        \"semantic_type\": \"\",\n        \"description\": \"\"\n      }\n    },\n    {\n      \"column\": \"tempo\",\n      \"properties\": {\n        \"dtype\": \"number\",\n        \"std\": 48.95991488623404,\n        \"min\": 25.414778362855365,\n        \"max\": 180.067,\n        \"num_unique_values\": 8,\n        \"samples\": [\n          119.69045999999999,\n          116.969,\n          50.0\n        ],\n        \"semantic_type\": \"\",\n        \"description\": \"\"\n      }\n    },\n    {\n      \"column\": \"duration_ms\",\n      \"properties\": {\n        \"dtype\": \"number\",\n        \"std\": 101069.08521407579,\n        \"min\": 50.0,\n        \"max\": 312820.0,\n        \"num_unique_values\": 8,\n        \"samples\": [\n          199955.36,\n          197853.5,\n          50.0\n        ],\n        \"semantic_type\": \"\",\n        \"description\": \"\"\n      }\n    }\n  ]\n}"
            }
          },
          "metadata": {},
          "execution_count": 80
        }
      ]
    },
    {
      "cell_type": "markdown",
      "source": [
        "Some interesting insights from the table above that could be used to define what makes is a hit song:\n",
        "\n",
        "- **Danceability**: Ranges from 0.225 to 0.935, with a mean around 0.717. *Most tracks are quite danceable—fitting* for a Top 50 hits list.\n",
        "\n",
        "- **Loudness**: Goes from about −7.55 dB (Q1) to −4.28 dB (Q3), hinting that *louder tracks dominate the upper end*.\n",
        "\n",
        "- **Energy & Valence**: Mean energy is 0.61 and valence (positivity) is 0.56. So *most songs have moderate drive and emotional tone*, no necessity for a hit song the be high-energy or happy.\n",
        "\n",
        "- **Instrumentalness**: Median is 0.0, and even the 75% percentile is basically 0—confirming that most *Top 50 tracks are vocal-heavy*.\n",
        "\n",
        "- **Acousticness**: Big spread from 0.001 to 0.934. Most tracks are electronically produced, only *a few are highly acoustic*.\n",
        "\n",
        "- **Duration**: Songs typically range from 175k to 215k ms (*about 2:55 to 3:35*), which feels about right for *radio-friendly hits*."
      ],
      "metadata": {
        "id": "MRdCGKPPyYQU"
      }
    },
    {
      "cell_type": "code",
      "source": [
        "df.isnull().sum()"
      ],
      "metadata": {
        "id": "zsPEkWMUF7u6",
        "colab": {
          "base_uri": "https://localhost:8080/",
          "height": 617
        },
        "outputId": "8e0368ba-aa15-48cb-c935-16568d95f7b9"
      },
      "execution_count": 51,
      "outputs": [
        {
          "output_type": "execute_result",
          "data": {
            "text/plain": [
              "Rank                0\n",
              "artist              0\n",
              "album               0\n",
              "track_name          0\n",
              "track_id            0\n",
              "energy              0\n",
              "danceability        0\n",
              "key                 0\n",
              "loudness            0\n",
              "acousticness        0\n",
              "speechiness         0\n",
              "instrumentalness    0\n",
              "liveness            0\n",
              "valence             0\n",
              "tempo               0\n",
              "duration_ms         0\n",
              "genre               0\n",
              "dtype: int64"
            ],
            "text/html": [
              "<div>\n",
              "<style scoped>\n",
              "    .dataframe tbody tr th:only-of-type {\n",
              "        vertical-align: middle;\n",
              "    }\n",
              "\n",
              "    .dataframe tbody tr th {\n",
              "        vertical-align: top;\n",
              "    }\n",
              "\n",
              "    .dataframe thead th {\n",
              "        text-align: right;\n",
              "    }\n",
              "</style>\n",
              "<table border=\"1\" class=\"dataframe\">\n",
              "  <thead>\n",
              "    <tr style=\"text-align: right;\">\n",
              "      <th></th>\n",
              "      <th>0</th>\n",
              "    </tr>\n",
              "  </thead>\n",
              "  <tbody>\n",
              "    <tr>\n",
              "      <th>Rank</th>\n",
              "      <td>0</td>\n",
              "    </tr>\n",
              "    <tr>\n",
              "      <th>artist</th>\n",
              "      <td>0</td>\n",
              "    </tr>\n",
              "    <tr>\n",
              "      <th>album</th>\n",
              "      <td>0</td>\n",
              "    </tr>\n",
              "    <tr>\n",
              "      <th>track_name</th>\n",
              "      <td>0</td>\n",
              "    </tr>\n",
              "    <tr>\n",
              "      <th>track_id</th>\n",
              "      <td>0</td>\n",
              "    </tr>\n",
              "    <tr>\n",
              "      <th>energy</th>\n",
              "      <td>0</td>\n",
              "    </tr>\n",
              "    <tr>\n",
              "      <th>danceability</th>\n",
              "      <td>0</td>\n",
              "    </tr>\n",
              "    <tr>\n",
              "      <th>key</th>\n",
              "      <td>0</td>\n",
              "    </tr>\n",
              "    <tr>\n",
              "      <th>loudness</th>\n",
              "      <td>0</td>\n",
              "    </tr>\n",
              "    <tr>\n",
              "      <th>acousticness</th>\n",
              "      <td>0</td>\n",
              "    </tr>\n",
              "    <tr>\n",
              "      <th>speechiness</th>\n",
              "      <td>0</td>\n",
              "    </tr>\n",
              "    <tr>\n",
              "      <th>instrumentalness</th>\n",
              "      <td>0</td>\n",
              "    </tr>\n",
              "    <tr>\n",
              "      <th>liveness</th>\n",
              "      <td>0</td>\n",
              "    </tr>\n",
              "    <tr>\n",
              "      <th>valence</th>\n",
              "      <td>0</td>\n",
              "    </tr>\n",
              "    <tr>\n",
              "      <th>tempo</th>\n",
              "      <td>0</td>\n",
              "    </tr>\n",
              "    <tr>\n",
              "      <th>duration_ms</th>\n",
              "      <td>0</td>\n",
              "    </tr>\n",
              "    <tr>\n",
              "      <th>genre</th>\n",
              "      <td>0</td>\n",
              "    </tr>\n",
              "  </tbody>\n",
              "</table>\n",
              "</div><br><label><b>dtype:</b> int64</label>"
            ]
          },
          "metadata": {},
          "execution_count": 51
        }
      ]
    },
    {
      "cell_type": "code",
      "source": [
        "numeric_cols = ['energy', 'danceability', 'loudness', 'acousticness',\n",
        "                'speechiness', 'instrumentalness', 'liveness', 'valence',\n",
        "                'tempo', 'duration_ms']\n",
        "\n",
        "for col in numeric_cols:\n",
        "    Q1 = df[col].quantile(0.25)\n",
        "    Q3 = df[col].quantile(0.75)\n",
        "    IQR = Q3 - Q1\n",
        "    lower = Q1 - 1.5 * IQR\n",
        "    upper = Q3 + 1.5 * IQR\n",
        "    outliers = df[(df[col] < lower) | (df[col] > upper)]\n",
        "    print(f\"\\nOutliers in {col}:\\n\", outliers[['artist', 'track_name', col]])\n"
      ],
      "metadata": {
        "id": "HM-37_GnMEPv",
        "colab": {
          "base_uri": "https://localhost:8080/"
        },
        "outputId": "c211464b-6926-4902-be05-4bad59de3848"
      },
      "execution_count": 52,
      "outputs": [
        {
          "output_type": "stream",
          "name": "stdout",
          "text": [
            "\n",
            "Outliers in energy:\n",
            " Empty DataFrame\n",
            "Columns: [artist, track_name, energy]\n",
            "Index: []\n",
            "\n",
            "Outliers in danceability:\n",
            "            artist                                      track_name  \\\n",
            "16  Lewis Capaldi                                   Before You Go   \n",
            "44  Billie Eilish                            lovely (with Khalid)   \n",
            "47        JP Saxe  If the World Was Ending - feat. Julia Michaels   \n",
            "\n",
            "    danceability  \n",
            "16         0.459  \n",
            "44         0.351  \n",
            "47         0.464  \n",
            "\n",
            "Outliers in loudness:\n",
            "            artist           track_name  loudness\n",
            "24  Billie Eilish  everything i wanted   -14.454\n",
            "\n",
            "Outliers in acousticness:\n",
            "            artist                                      track_name  \\\n",
            "1     Tones And I                                    Dance Monkey   \n",
            "7           Powfu                death bed (coffee for your head)   \n",
            "9   Lewis Capaldi                               Someone You Loved   \n",
            "18       Maroon 5                                        Memories   \n",
            "24  Billie Eilish                             everything i wanted   \n",
            "44  Billie Eilish                            lovely (with Khalid)   \n",
            "47        JP Saxe  If the World Was Ending - feat. Julia Michaels   \n",
            "\n",
            "    acousticness  \n",
            "1          0.688  \n",
            "7          0.731  \n",
            "9          0.751  \n",
            "18         0.837  \n",
            "24         0.902  \n",
            "44         0.934  \n",
            "47         0.866  \n",
            "\n",
            "Outliers in speechiness:\n",
            "            artist                       track_name  speechiness\n",
            "19         Future       Life Is Good (feat. Drake)        0.487\n",
            "26  Billie Eilish                          bad guy        0.375\n",
            "27        Cardi B  WAP (feat. Megan Thee Stallion)        0.375\n",
            "29         Eminem      Godzilla (feat. Juice WRLD)        0.342\n",
            "38         Maluma                            Hawái        0.389\n",
            "43      Bad Bunny                          Safaera        0.379\n",
            "\n",
            "Outliers in instrumentalness:\n",
            "              artist                            track_name  instrumentalness\n",
            "0        The Weeknd                       Blinding Lights          0.000095\n",
            "1       Tones And I                          Dance Monkey          0.000161\n",
            "3         SAINt JHN                 Roses - Imanbek Remix          0.004320\n",
            "10          KAROL G                                  Tusa          0.000134\n",
            "12      Post Malone                               Circles          0.002440\n",
            "24    Billie Eilish                   everything i wanted          0.657000\n",
            "26    Billie Eilish                               bad guy          0.130000\n",
            "33            BENEE      Supalonely (feat. Gus Dapperton)          0.000209\n",
            "34        Surf Mesa  ily (i love you baby) (feat. Emilee)          0.001880\n",
            "39           Regard                               Ride It          0.000064\n",
            "41  Black Eyed Peas             RITMO (Bad Boys For Life)          0.001090\n",
            "48         Dua Lipa                              Physical          0.000658\n",
            "\n",
            "Outliers in liveness:\n",
            "              artist                        track_name  liveness\n",
            "2       Roddy Ricch                           The Box     0.790\n",
            "7             Powfu  death bed (coffee for your head)     0.696\n",
            "41  Black Eyed Peas         RITMO (Bad Boys For Life)     0.792\n",
            "\n",
            "Outliers in valence:\n",
            " Empty DataFrame\n",
            "Columns: [artist, track_name, valence]\n",
            "Index: []\n",
            "\n",
            "Outliers in tempo:\n",
            " Empty DataFrame\n",
            "Columns: [artist, track_name, tempo]\n",
            "Index: []\n",
            "\n",
            "Outliers in duration_ms:\n",
            "           artist  track_name  duration_ms\n",
            "43     Bad Bunny     Safaera       295177\n",
            "49  Travis Scott  SICKO MODE       312820\n"
          ]
        }
      ]
    },
    {
      "cell_type": "markdown",
      "source": [
        "**Outlier Summary and Insights**\n",
        "\n",
        "- No outliers in Energy, Valence, and Tempo.\n",
        "- 3 track with lower Danceability.\n",
        "- 1 track with much lower Loudness that the other.\n",
        "- 7 tracks with more Acoustic sounds compared to the rest.\n",
        "- 6 tracks with more Speech-like content.\n",
        "- 2 tracks with high Instrumentalness and 10 with very low instrumentalness.\n",
        "- 3 track with more Live performance elements.\n",
        "- 2 tracks with unusually long Duration.\n",
        "\n",
        "I am not removing the outliers in further analysis. And here are some insights that might help determining hit-like song qualities:\n",
        "- Songs that are made for dancing, are louder, and less instrumental are more likely to make it to the TOP50.\n",
        "- Hit songs are usually of radio-friendly duration.\n",
        "- Finding a good balance of acousticness and speech-like content might be important.\n",
        "- Songs that are not too slow or fast, and not too cheerful or sad seem to become more popular.\n"
      ],
      "metadata": {
        "id": "aQA1_rF_E223"
      }
    },
    {
      "cell_type": "markdown",
      "source": [
        "# Exploratory Data Analysis\n",
        "In this part I have looked for **answers to the questions provided by a Product Manager**. Like in the section above, text box with a question is followed by a code box and insights relevant to reach the goal of this analysis."
      ],
      "metadata": {
        "id": "9iCSwxMFJzQ1"
      }
    },
    {
      "cell_type": "markdown",
      "source": [
        "***1. How many observations and features are there in the dataset?***\n",
        "\n",
        "  The quickest way of answering this question could be using the *shape* property. Running the code below will give the result of (50,17) which means that there are 50 observations, a.k.a. rows, and 17 features, a.k.a. columns, in the dataset.\n",
        "\n",
        "  It is important to note that the first column is the index, so there are 16 features (information about a track) in this dataset."
      ],
      "metadata": {
        "id": "f0-ep_zIKmJE"
      }
    },
    {
      "cell_type": "code",
      "source": [
        "df.shape"
      ],
      "metadata": {
        "id": "pvtr51_5DbsF",
        "colab": {
          "base_uri": "https://localhost:8080/"
        },
        "outputId": "dea1c6a2-fbc3-4453-f920-16f39192adaf"
      },
      "execution_count": 81,
      "outputs": [
        {
          "output_type": "execute_result",
          "data": {
            "text/plain": [
              "(50, 16)"
            ]
          },
          "metadata": {},
          "execution_count": 81
        }
      ]
    },
    {
      "cell_type": "markdown",
      "source": [
        "***2. Which of the features are categorical and which are numeric?***\n",
        "\n",
        "To answer this question I have used the *dtypes* property which returns data type description of each column. By running the code below you will see that:\n",
        "\n",
        "- Rank, energy, danceability, key, loudness, acousticness, speechiness, instrumentalness, liveness, valence, tempo, and duration_ms are ***numerical***. Also, rank, key, and duration_ms are integers and the rest are floats.\n",
        "- Artist, album, track_name, track_id, and genre are ***categorical*** data."
      ],
      "metadata": {
        "id": "5oBHsQIvMLZa"
      }
    },
    {
      "cell_type": "code",
      "source": [
        "df.dtypes"
      ],
      "metadata": {
        "id": "gBuadge9GNNq",
        "colab": {
          "base_uri": "https://localhost:8080/",
          "height": 585
        },
        "outputId": "0407db68-498a-4aed-c5f8-6140daff117b"
      },
      "execution_count": 82,
      "outputs": [
        {
          "output_type": "execute_result",
          "data": {
            "text/plain": [
              "artist               object\n",
              "album                object\n",
              "track_name           object\n",
              "track_id             object\n",
              "energy              float64\n",
              "danceability        float64\n",
              "key                   int64\n",
              "loudness            float64\n",
              "acousticness        float64\n",
              "speechiness         float64\n",
              "instrumentalness    float64\n",
              "liveness            float64\n",
              "valence             float64\n",
              "tempo               float64\n",
              "duration_ms           int64\n",
              "genre                object\n",
              "dtype: object"
            ],
            "text/html": [
              "<div>\n",
              "<style scoped>\n",
              "    .dataframe tbody tr th:only-of-type {\n",
              "        vertical-align: middle;\n",
              "    }\n",
              "\n",
              "    .dataframe tbody tr th {\n",
              "        vertical-align: top;\n",
              "    }\n",
              "\n",
              "    .dataframe thead th {\n",
              "        text-align: right;\n",
              "    }\n",
              "</style>\n",
              "<table border=\"1\" class=\"dataframe\">\n",
              "  <thead>\n",
              "    <tr style=\"text-align: right;\">\n",
              "      <th></th>\n",
              "      <th>0</th>\n",
              "    </tr>\n",
              "  </thead>\n",
              "  <tbody>\n",
              "    <tr>\n",
              "      <th>artist</th>\n",
              "      <td>object</td>\n",
              "    </tr>\n",
              "    <tr>\n",
              "      <th>album</th>\n",
              "      <td>object</td>\n",
              "    </tr>\n",
              "    <tr>\n",
              "      <th>track_name</th>\n",
              "      <td>object</td>\n",
              "    </tr>\n",
              "    <tr>\n",
              "      <th>track_id</th>\n",
              "      <td>object</td>\n",
              "    </tr>\n",
              "    <tr>\n",
              "      <th>energy</th>\n",
              "      <td>float64</td>\n",
              "    </tr>\n",
              "    <tr>\n",
              "      <th>danceability</th>\n",
              "      <td>float64</td>\n",
              "    </tr>\n",
              "    <tr>\n",
              "      <th>key</th>\n",
              "      <td>int64</td>\n",
              "    </tr>\n",
              "    <tr>\n",
              "      <th>loudness</th>\n",
              "      <td>float64</td>\n",
              "    </tr>\n",
              "    <tr>\n",
              "      <th>acousticness</th>\n",
              "      <td>float64</td>\n",
              "    </tr>\n",
              "    <tr>\n",
              "      <th>speechiness</th>\n",
              "      <td>float64</td>\n",
              "    </tr>\n",
              "    <tr>\n",
              "      <th>instrumentalness</th>\n",
              "      <td>float64</td>\n",
              "    </tr>\n",
              "    <tr>\n",
              "      <th>liveness</th>\n",
              "      <td>float64</td>\n",
              "    </tr>\n",
              "    <tr>\n",
              "      <th>valence</th>\n",
              "      <td>float64</td>\n",
              "    </tr>\n",
              "    <tr>\n",
              "      <th>tempo</th>\n",
              "      <td>float64</td>\n",
              "    </tr>\n",
              "    <tr>\n",
              "      <th>duration_ms</th>\n",
              "      <td>int64</td>\n",
              "    </tr>\n",
              "    <tr>\n",
              "      <th>genre</th>\n",
              "      <td>object</td>\n",
              "    </tr>\n",
              "  </tbody>\n",
              "</table>\n",
              "</div><br><label><b>dtype:</b> object</label>"
            ]
          },
          "metadata": {},
          "execution_count": 82
        }
      ]
    },
    {
      "cell_type": "markdown",
      "source": [
        "***3. How many artists have their songs in the top 50 in total?***\n",
        "\n",
        "To answer this question, I used the *nunique* function, which counts the number of unique values in the specified column.\n",
        "\n",
        "By running the code below you will see that there are **40 artists** who have their songs in TOP50 list."
      ],
      "metadata": {
        "id": "3E22bLuVa0in"
      }
    },
    {
      "cell_type": "code",
      "source": [
        "df['artist'].nunique()"
      ],
      "metadata": {
        "id": "W8lTQciHPHLT",
        "colab": {
          "base_uri": "https://localhost:8080/"
        },
        "outputId": "d8fd9c99-49ac-4794-c153-ed23121d5590"
      },
      "execution_count": 83,
      "outputs": [
        {
          "output_type": "execute_result",
          "data": {
            "text/plain": [
              "40"
            ]
          },
          "metadata": {},
          "execution_count": 83
        }
      ]
    },
    {
      "cell_type": "markdown",
      "source": [
        "***4. Are there any artists that have more than 1 popular track? If yes, which and how many?***\n",
        "\n",
        "To find whether some of artist have more than one track in the TOP50 I have used *value_counts* function. By runinng the code below you will see that there are **7 artists** who have more than 1 song in the list.\n",
        "\n",
        "\n",
        "\n",
        "---\n",
        "\n",
        "\n",
        "***5. Who was the most popular artist?***\n",
        "\n",
        "There are 3 (**Dua Lipa, Billie Eilish, Travis Scott**) artists with 3 songs each in the TOP50. For further analysis, it would be good to look at the average rank of their songs."
      ],
      "metadata": {
        "id": "S-YVzLRaODAG"
      }
    },
    {
      "cell_type": "code",
      "source": [
        "artist_counts = df['artist'].value_counts()\n",
        "multi_track_artists = artist_counts[artist_counts > 1]\n",
        "print(multi_track_artists)"
      ],
      "metadata": {
        "id": "labgAh0GQcpY",
        "colab": {
          "base_uri": "https://localhost:8080/"
        },
        "outputId": "03353b80-4a9a-4736-c5cb-b6f81b66ec83"
      },
      "execution_count": 85,
      "outputs": [
        {
          "output_type": "stream",
          "name": "stdout",
          "text": [
            "artist\n",
            "Dua Lipa         3\n",
            "Billie Eilish    3\n",
            "Travis Scott     3\n",
            "Harry Styles     2\n",
            "Lewis Capaldi    2\n",
            "Justin Bieber    2\n",
            "Post Malone      2\n",
            "Name: count, dtype: int64\n"
          ]
        }
      ]
    },
    {
      "cell_type": "markdown",
      "source": [
        "***6. How many albums in total have their songs in the TOP50?***\n",
        "\n",
        "Same a with unique artists, I have use the *nunique* function for the album column. There are **45 albums** in the top."
      ],
      "metadata": {
        "id": "kUKG90tldaqh"
      }
    },
    {
      "cell_type": "code",
      "source": [
        "df['album'].nunique()"
      ],
      "metadata": {
        "id": "hSLRJLtKQ_HM",
        "colab": {
          "base_uri": "https://localhost:8080/"
        },
        "outputId": "2d0dff84-288c-4b73-d09b-cf6b12226c10"
      },
      "execution_count": 57,
      "outputs": [
        {
          "output_type": "execute_result",
          "data": {
            "text/plain": [
              "45"
            ]
          },
          "metadata": {},
          "execution_count": 57
        }
      ]
    },
    {
      "cell_type": "markdown",
      "source": [
        "***7. Are there any albums that have more than 1 popular track? If yes, which and how many?***\n",
        "\n",
        "The below code summarizes which albums have more than 1 track in the TOP50 as well as displays the average rank. **Dua Lipa's \"Future Nostalgia\"** has 3 songs in the top.\n",
        "\n"
      ],
      "metadata": {
        "id": "fW2514aVaueE"
      }
    },
    {
      "cell_type": "code",
      "source": [
        "album_counts = df['album'].value_counts()\n",
        "multi_track_albums = album_counts[album_counts > 1]\n",
        "print(multi_track_albums)"
      ],
      "metadata": {
        "id": "sE0uND6yb5B3",
        "colab": {
          "base_uri": "https://localhost:8080/"
        },
        "outputId": "88cee7f9-bcc2-4eff-c708-1ab25383f944"
      },
      "execution_count": 86,
      "outputs": [
        {
          "output_type": "stream",
          "name": "stdout",
          "text": [
            "album\n",
            "Future Nostalgia        3\n",
            "Hollywood's Bleeding    2\n",
            "Fine Line               2\n",
            "Changes                 2\n",
            "Name: count, dtype: int64\n"
          ]
        }
      ]
    },
    {
      "cell_type": "markdown",
      "source": [
        "***8. Which tracks have a danceability score above 0.7 and which below 0.4?***\n",
        "\n",
        "To answer this question, I simply used conditions (>0.7 and <0.4) to filter the tracks and print the list.\n",
        "\n",
        "Running the two code blocks below, you will see that 31 track has danceability score above 0.7. This is **62%** of all songs in the TOP50. Only one track had danceability below 0.4. This data also confirms previous insights (in the Outliers part) that songs that have **higher danceability are more likely to make it to the top**."
      ],
      "metadata": {
        "id": "riOMdncSeV4U"
      }
    },
    {
      "cell_type": "code",
      "source": [
        "print(df[df['danceability'] > 0.7]['track_name'])"
      ],
      "metadata": {
        "id": "tfrGvvaFReNo",
        "colab": {
          "base_uri": "https://localhost:8080/"
        },
        "outputId": "03315767-5ca0-4fdf-96a3-83bf0ab4c217"
      },
      "execution_count": 59,
      "outputs": [
        {
          "output_type": "stream",
          "name": "stdout",
          "text": [
            "1                                      Dance Monkey\n",
            "2                                           The Box\n",
            "3                             Roses - Imanbek Remix\n",
            "4                                   Don't Start Now\n",
            "5                      ROCKSTAR (feat. Roddy Ricch)\n",
            "7                  death bed (coffee for your head)\n",
            "8                                           Falling\n",
            "10                                             Tusa\n",
            "13                                  Blueberry Faygo\n",
            "14                         Intentions (feat. Quavo)\n",
            "15                                     Toosie Slide\n",
            "17                                           Say So\n",
            "18                                         Memories\n",
            "19                       Life Is Good (feat. Drake)\n",
            "20                 Savage Love (Laxed - Siren Beat)\n",
            "22                                      Breaking Me\n",
            "24                              everything i wanted\n",
            "25                                         Señorita\n",
            "26                                          bad guy\n",
            "27                  WAP (feat. Megan Thee Stallion)\n",
            "28                                      Sunday Best\n",
            "29                      Godzilla (feat. Juice WRLD)\n",
            "31                                   Break My Heart\n",
            "32                                         Dynamite\n",
            "33                 Supalonely (feat. Gus Dapperton)\n",
            "37    Sunflower - Spider-Man: Into the Spider-Verse\n",
            "38                                            Hawái\n",
            "39                                          Ride It\n",
            "40                                       goosebumps\n",
            "41                        RITMO (Bad Boys For Life)\n",
            "42                                       THE SCOTTS\n",
            "49                                       SICKO MODE\n",
            "Name: track_name, dtype: object\n"
          ]
        }
      ]
    },
    {
      "cell_type": "code",
      "source": [
        "print(df[df['danceability'] < 0.4]['track_name'])"
      ],
      "metadata": {
        "id": "l-STTv4cSZ8O",
        "colab": {
          "base_uri": "https://localhost:8080/"
        },
        "outputId": "0a3725a2-5fa1-4c47-ec7d-dd3f48a9e8dd"
      },
      "execution_count": 60,
      "outputs": [
        {
          "output_type": "stream",
          "name": "stdout",
          "text": [
            "44    lovely (with Khalid)\n",
            "Name: track_name, dtype: object\n"
          ]
        }
      ]
    },
    {
      "cell_type": "markdown",
      "source": [
        "***9. Which tracks have their loudness above -5 and which below -8?***\n",
        "\n",
        "Similarly to danceability, I have used conditions based on the loudness metric to answer this question.\n",
        "\n",
        "By running the two code blocks below you will see that:\n",
        "\n",
        "- 19 tracks have loudness levels above -5 dB, indicating higher overall volume;\n",
        "- 9 tracks fall below -8 dB, making them noticeably quieter.\n",
        "\n",
        "The average loudness across all tracks is -6.23 dB. Interestingly, 38% of the Top 50 tracks are louder than average, suggesting that **higher loudness might play a role in boosting a song’s chart success**.\n"
      ],
      "metadata": {
        "id": "f2ztorfrgPKC"
      }
    },
    {
      "cell_type": "code",
      "source": [
        "print(df[df['loudness'] > -5]['track_name'])"
      ],
      "metadata": {
        "id": "qm8t6JPVSlOX",
        "colab": {
          "base_uri": "https://localhost:8080/"
        },
        "outputId": "53fea76d-7937-4703-b320-c376559b0d6c"
      },
      "execution_count": 61,
      "outputs": [
        {
          "output_type": "stream",
          "name": "stdout",
          "text": [
            "4                                   Don't Start Now\n",
            "6                                  Watermelon Sugar\n",
            "10                                             Tusa\n",
            "12                                          Circles\n",
            "16                                    Before You Go\n",
            "17                                           Say So\n",
            "21                                        Adore You\n",
            "23                           Mood (feat. iann dior)\n",
            "31                                   Break My Heart\n",
            "32                                         Dynamite\n",
            "33                 Supalonely (feat. Gus Dapperton)\n",
            "35                  Rain On Me (with Ariana Grande)\n",
            "37    Sunflower - Spider-Man: Into the Spider-Verse\n",
            "38                                            Hawái\n",
            "39                                          Ride It\n",
            "40                                       goosebumps\n",
            "43                                          Safaera\n",
            "48                                         Physical\n",
            "49                                       SICKO MODE\n",
            "Name: track_name, dtype: object\n"
          ]
        }
      ]
    },
    {
      "cell_type": "code",
      "source": [
        "print(df[df['loudness'] < -8]['track_name'])"
      ],
      "metadata": {
        "id": "_Q0XABFvSn10",
        "colab": {
          "base_uri": "https://localhost:8080/"
        },
        "outputId": "b7333da1-42d7-4d43-9d92-322336d0aab8"
      },
      "execution_count": 62,
      "outputs": [
        {
          "output_type": "stream",
          "name": "stdout",
          "text": [
            "7                   death bed (coffee for your head)\n",
            "8                                            Falling\n",
            "15                                      Toosie Slide\n",
            "20                  Savage Love (Laxed - Siren Beat)\n",
            "24                               everything i wanted\n",
            "26                                           bad guy\n",
            "36                               HIGHEST IN THE ROOM\n",
            "44                              lovely (with Khalid)\n",
            "47    If the World Was Ending - feat. Julia Michaels\n",
            "Name: track_name, dtype: object\n"
          ]
        }
      ]
    },
    {
      "cell_type": "markdown",
      "source": [
        "***10. Which track is the longest and which is the shortest?***\n",
        "\n",
        "To find answer to this question, I have used the *idxmax* and *idxmin* functions for duration_ms metric.\n",
        "\n",
        "The mean of track duration is around  3 minutes and 19 seconds; songs typically range from 175k to 215k ms (about 2:55 to 3:35) - a sweet spot for radio play. **The longest track is \"SICKO MODE\" by Travis Scott**, clocking in at over 5 minutes, while **the shortest is \"Mood (feat. iann dior)\" by 24kGoldn**, running about 2 minutes and 20 seconds.\n",
        "\n",
        "While the shortest one isn't unusually short, the longest one is definitely not something you typically see on the Top 50 list."
      ],
      "metadata": {
        "id": "rCq_NqbOip5O"
      }
    },
    {
      "cell_type": "code",
      "source": [
        "df['duration_min'] = df['duration_ms'].apply(\n",
        "    lambda x: f\"{int(x // 60000)}:{int((x % 60000) // 1000):02d}\"\n",
        ")\n",
        "df.loc[df['duration_min'].idxmax(), ['artist', 'track_name', 'duration_min']]\n",
        "\n"
      ],
      "metadata": {
        "id": "ekjiiUqvTEC4",
        "colab": {
          "base_uri": "https://localhost:8080/",
          "height": 178
        },
        "outputId": "768ed16f-4228-4aa4-a3f0-e0c935ba65e6"
      },
      "execution_count": 91,
      "outputs": [
        {
          "output_type": "execute_result",
          "data": {
            "text/plain": [
              "artist          Travis Scott\n",
              "track_name        SICKO MODE\n",
              "duration_min            5:12\n",
              "Name: 49, dtype: object"
            ],
            "text/html": [
              "<div>\n",
              "<style scoped>\n",
              "    .dataframe tbody tr th:only-of-type {\n",
              "        vertical-align: middle;\n",
              "    }\n",
              "\n",
              "    .dataframe tbody tr th {\n",
              "        vertical-align: top;\n",
              "    }\n",
              "\n",
              "    .dataframe thead th {\n",
              "        text-align: right;\n",
              "    }\n",
              "</style>\n",
              "<table border=\"1\" class=\"dataframe\">\n",
              "  <thead>\n",
              "    <tr style=\"text-align: right;\">\n",
              "      <th></th>\n",
              "      <th>49</th>\n",
              "    </tr>\n",
              "  </thead>\n",
              "  <tbody>\n",
              "    <tr>\n",
              "      <th>artist</th>\n",
              "      <td>Travis Scott</td>\n",
              "    </tr>\n",
              "    <tr>\n",
              "      <th>track_name</th>\n",
              "      <td>SICKO MODE</td>\n",
              "    </tr>\n",
              "    <tr>\n",
              "      <th>duration_min</th>\n",
              "      <td>5:12</td>\n",
              "    </tr>\n",
              "  </tbody>\n",
              "</table>\n",
              "</div><br><label><b>dtype:</b> object</label>"
            ]
          },
          "metadata": {},
          "execution_count": 91
        }
      ]
    },
    {
      "cell_type": "code",
      "source": [
        "df['duration_min'] = df['duration_ms'].apply(\n",
        "    lambda x: f\"{int(x // 60000)}:{int((x % 60000) // 1000):02d}\"\n",
        ")\n",
        "df.loc[df['duration_min'].idxmin(), ['artist', 'track_name', 'duration_min']]"
      ],
      "metadata": {
        "id": "yifMh-MaTHUt",
        "colab": {
          "base_uri": "https://localhost:8080/",
          "height": 178
        },
        "outputId": "b3ec7285-595d-4868-9026-53275887de38"
      },
      "execution_count": 92,
      "outputs": [
        {
          "output_type": "execute_result",
          "data": {
            "text/plain": [
              "artist                        24kGoldn\n",
              "track_name      Mood (feat. iann dior)\n",
              "duration_min                      2:20\n",
              "Name: 23, dtype: object"
            ],
            "text/html": [
              "<div>\n",
              "<style scoped>\n",
              "    .dataframe tbody tr th:only-of-type {\n",
              "        vertical-align: middle;\n",
              "    }\n",
              "\n",
              "    .dataframe tbody tr th {\n",
              "        vertical-align: top;\n",
              "    }\n",
              "\n",
              "    .dataframe thead th {\n",
              "        text-align: right;\n",
              "    }\n",
              "</style>\n",
              "<table border=\"1\" class=\"dataframe\">\n",
              "  <thead>\n",
              "    <tr style=\"text-align: right;\">\n",
              "      <th></th>\n",
              "      <th>23</th>\n",
              "    </tr>\n",
              "  </thead>\n",
              "  <tbody>\n",
              "    <tr>\n",
              "      <th>artist</th>\n",
              "      <td>24kGoldn</td>\n",
              "    </tr>\n",
              "    <tr>\n",
              "      <th>track_name</th>\n",
              "      <td>Mood (feat. iann dior)</td>\n",
              "    </tr>\n",
              "    <tr>\n",
              "      <th>duration_min</th>\n",
              "      <td>2:20</td>\n",
              "    </tr>\n",
              "  </tbody>\n",
              "</table>\n",
              "</div><br><label><b>dtype:</b> object</label>"
            ]
          },
          "metadata": {},
          "execution_count": 92
        }
      ]
    },
    {
      "cell_type": "markdown",
      "source": [
        "The following 3 code blocks allowed me to answer these questions:\n",
        "\n",
        "***11. How many genres in total are represented in the TOP50?***\n",
        "\n",
        "Using the *nunique* function I have identified that tracks belong to either of **16 genres**.\n",
        "\n",
        "---\n",
        "\n",
        "***12. Which genre is the most popular?***\n",
        "\n",
        "Using the *value_counts *function I was able to count how many songs each genre has in the TOP50 and filtered out the genre with most songs using the *idxmax* function.\n",
        "\n",
        "The most popular genre is **POP**!\n",
        "\n",
        "---\n",
        "\n",
        "***13. Which genres have just one song in the TOP50?***\n",
        "\n",
        "By reusing the value_counts for previous question, I have identified that **10 **out of 16 genre have only one track in the TOP50 list. **These are the genres: chamber pop, alternative/reggaeton/experimental, dreampop/Hip-Hop/R&B, disco-pop, dance-pop/disco, hip-hop/trap, nu-disco, pop rap, pop/soft rock, r&b/hip-hop alternative**.\n",
        "\n",
        "*Interesting to note that a lot of these are sub-genre of pop.*\n",
        "\n"
      ],
      "metadata": {
        "id": "jrUSzZL0lRRA"
      }
    },
    {
      "cell_type": "code",
      "source": [
        "df['genre'].nunique()"
      ],
      "metadata": {
        "id": "wWCl5HFZUynB",
        "colab": {
          "base_uri": "https://localhost:8080/"
        },
        "outputId": "67d1656c-5637-48b1-de19-0dd155049ba2"
      },
      "execution_count": 65,
      "outputs": [
        {
          "output_type": "execute_result",
          "data": {
            "text/plain": [
              "16"
            ]
          },
          "metadata": {},
          "execution_count": 65
        }
      ]
    },
    {
      "cell_type": "code",
      "source": [
        "most_popular_genre = df.value_counts('genre')\n",
        "print(most_popular_genre.idxmax())"
      ],
      "metadata": {
        "id": "utjTjbFzT3HR",
        "colab": {
          "base_uri": "https://localhost:8080/"
        },
        "outputId": "12cbe325-3fe1-4f34-ab0c-3c874cade586"
      },
      "execution_count": 66,
      "outputs": [
        {
          "output_type": "stream",
          "name": "stdout",
          "text": [
            "Pop\n"
          ]
        }
      ]
    },
    {
      "cell_type": "code",
      "source": [
        "print(most_popular_genre[most_popular_genre == 1])"
      ],
      "metadata": {
        "id": "08xSFEHNUcl-",
        "colab": {
          "base_uri": "https://localhost:8080/"
        },
        "outputId": "fefba336-6773-45c5-a24c-9184ae9fcdab"
      },
      "execution_count": 67,
      "outputs": [
        {
          "output_type": "stream",
          "name": "stdout",
          "text": [
            "genre\n",
            "Chamber pop                           1\n",
            "Alternative/reggaeton/experimental    1\n",
            "Dreampop/Hip-Hop/R&B                  1\n",
            "Disco-pop                             1\n",
            "Dance-pop/Disco                       1\n",
            "Hip-Hop/Trap                          1\n",
            "Nu-disco                              1\n",
            "Pop rap                               1\n",
            "Pop/Soft Rock                         1\n",
            "R&B/Hip-Hop alternative               1\n",
            "Name: count, dtype: int64\n"
          ]
        }
      ]
    },
    {
      "cell_type": "markdown",
      "source": [
        "***14. How does danceability / loudness / acoustics score compare between Pop, Hip-Hop/Rap, Dance/Electronic, and Alternative/Indie genres?***\n",
        "\n",
        "To compare different genre based on the listed metrics, I have found the *means* and looked for insights considering them:\n",
        "\n",
        "- *Danceability*: Hip-Hop/Rap (0.77) and Dance/Electronic (0.76) are more rhythm-driven and well-suited for movement. Pop (0.68) and Alternative/Indie (0.66) are still danceable, but typically lean more on melody or lyrics than pure groove.\n",
        "\n",
        "- *Loudness*: Dance/Electronic and Alternative/Indie are generally louder (closer to 0 dB = louder). Hip-Hop/Rap is the softest on average, while Pop sits in the middle, balanced between punch and subtlety.\n",
        "\n",
        "- *Acousticness*: Alternative/Indie (0.58) is the most organic-sounding, often using real instruments or stripped-down arrangements. Dance/Electronic (0.10) is the least acoustic—heavily synthesized and production-heavy. Pop music tends to strike a middle ground when it comes to acousticness. With an average value of 0.32, it suggests that while pop incorporates some organic elements like guitars or piano, it's still largely shaped by digital production and synthetic textures.\n",
        "\n",
        "Overall, balance helps **pop music stay versatile—capable** of leaning more acoustic for emotional ballads or more electronic and loud for dance hits, depending on the mood it's aiming to deliver. It's the genre's adaptability that keeps it so mainstream and ever-evolving.\n"
      ],
      "metadata": {
        "id": "U2e2bVeyojW8"
      }
    },
    {
      "cell_type": "code",
      "source": [
        "# Danceability\n",
        "selected_genres = ['Pop', 'Hip-Hop/Rap', 'Dance/Electronic', 'Alternative/Indie']\n",
        "danceability_comparison = df[df['genre'].isin(selected_genres)].groupby('genre')['danceability'].mean().sort_values(ascending=False)\n",
        "print('Danceability comparison:\\n', danceability_comparison,'\\n')\n",
        "\n",
        "# Loudness\n",
        "selected_genres = ['Pop', 'Hip-Hop/Rap', 'Dance/Electronic', 'Alternative/Indie']\n",
        "loudness_comparison = df[df['genre'].isin(selected_genres)].groupby('genre')['loudness'].mean().sort_values(ascending=False)\n",
        "print('Loudness comparison:\\n',loudness_comparison,'\\n')\n",
        "\n",
        "# Acoustics\n",
        "selected_genres = ['Pop', 'Hip-Hop/Rap', 'Dance/Electronic', 'Alternative/Indie']\n",
        "acoustics_comparison = df[df['genre'].isin(selected_genres)].groupby('genre')['acousticness'].mean().sort_values(ascending=False)\n",
        "print('Acoustics comparison:\\n',acoustics_comparison,'\\n')"
      ],
      "metadata": {
        "id": "dLYdOnKPPaGg",
        "colab": {
          "base_uri": "https://localhost:8080/"
        },
        "outputId": "5dbeda27-f45e-472b-be26-e070be7dd45a"
      },
      "execution_count": 87,
      "outputs": [
        {
          "output_type": "stream",
          "name": "stdout",
          "text": [
            "Danceability comparison:\n",
            " genre\n",
            "Hip-Hop/Rap          0.765538\n",
            "Dance/Electronic     0.755000\n",
            "Pop                  0.677571\n",
            "Alternative/Indie    0.661750\n",
            "Name: danceability, dtype: float64 \n",
            "\n",
            "Loudness comparison:\n",
            " genre\n",
            "Dance/Electronic    -5.338000\n",
            "Alternative/Indie   -5.421000\n",
            "Pop                 -6.460357\n",
            "Hip-Hop/Rap         -6.917846\n",
            "Name: loudness, dtype: float64 \n",
            "\n",
            "Acoustics comparison:\n",
            " genre\n",
            "Alternative/Indie    0.583500\n",
            "Pop                  0.323843\n",
            "Hip-Hop/Rap          0.188741\n",
            "Dance/Electronic     0.099440\n",
            "Name: acousticness, dtype: float64 \n",
            "\n"
          ]
        }
      ]
    },
    {
      "cell_type": "markdown",
      "source": [
        "***15. Which features are strongly positively correlated / strongly negatively correlated / not correlated?***\n",
        "\n",
        "To answer this question, I first used the *corr* function from pandas to calculate the correlation matrix. However, since the output was difficult to interpret, I opted for a visualization approach. By importing the *seaborn* and matplotlib *libraries*, I was able to create a heatmap to better understand the correlations (see code block below).\n",
        "\n",
        "Red indicates strong positive correlation, whereas blue indicates strong negative correlation. No correlation is identified by grey-ish shades.\n",
        "---\n",
        "- **Energy has a very strong positive correlation with loudness** (0.79), meaning louder tracks tend to feel more energetic. **It also has a strong negative correlation with acousticness** (-0.68), so energetic songs are usually less acoustic and more electronically produced.\n",
        "\n",
        "- **Danceability shows a moderate positive correlation with valence** (0.48), suggesting that more danceable songs often feel happier or more emotionally upbeat.\n",
        "---\n",
        "- **Loudness is negatively correlated with acousticness** (-0.50), reinforcing that louder songs are less likely to be acoustic-driven.\n",
        "\n",
        "- **Instrumentalness is negatively correlated with loudness** as well (-0.55), meaning louder tracks typically feature more vocals.\n",
        "\n",
        "- **Acousticness and valence also share a slight negative relationship** (-0.24), hinting that more acoustic tracks lean slightly more melancholic or subdued.\n",
        "\n",
        "---\n",
        "\n",
        "- **Speechiness vs. Tempo have no clear relationship**, artists feel free to speak rhythmically in slow ballads or drop rapid verses over fast beats.\n",
        "- **Valence vs. Instrumentalness have very low (-0.2) correlation**. A song can feel joyful whether it has vocals or is fully instrumental—there’s no emotional rulebook tied to lyrics.\n",
        "- **Duration has very low correlation with the rest of features**, except for speechiness, which is a bit higher.\n",
        "- **Liveness as well has mostly low correlation with the rest of features**,except for key.\n",
        "\n",
        "\n",
        "---\n",
        "\n",
        "The heatmap reveals several strong and meaningful relationships between musical features—most notably, energy and loudness are tightly linked, as louder songs tend to feel more intense and dynamic. At the same time, energetic and loud tracks are generally less acoustic and less instrumental, highlighting a preference for bold, digitally produced pop sounds. Danceable songs tend to feel happier, reflected in the moderate correlation between danceability and valence. On the flip side, features like speechiness, duration, and liveness show little to no correlation with most others, signaling creative flexibility. These low correlations suggest that tracks can blend spoken word, length, or live feel with a variety of other traits—underscoring the diverse stylistic approaches within the dataset.\n"
      ],
      "metadata": {
        "id": "8f3hsGPqxS4R"
      }
    },
    {
      "cell_type": "code",
      "source": [
        "correlation_matrix = df.corr(numeric_only=True)\n",
        "\n",
        "import seaborn as sns\n",
        "import matplotlib.pyplot as plt\n",
        "\n",
        "sns.heatmap(correlation_matrix, annot=True, cmap='coolwarm', fmt=\".2f\")\n",
        "plt.title('Feature Correlation Matrix')\n",
        "plt.show()"
      ],
      "metadata": {
        "id": "z59pK5i5Nk90",
        "colab": {
          "base_uri": "https://localhost:8080/",
          "height": 558
        },
        "outputId": "074bd852-fdc8-408f-fd31-12e2a4f1396c"
      },
      "execution_count": 69,
      "outputs": [
        {
          "output_type": "display_data",
          "data": {
            "text/plain": [
              "<Figure size 640x480 with 2 Axes>"
            ],
            "image/png": "[encoded data removed]"
          },
          "metadata": {}
        }
      ]
    },
    {
      "cell_type": "markdown",
      "source": [
        "# Summary and Insights\n",
        "Based on the analysis, it appears that songs reaching the Top 50 tend to strike a careful balance between a few key musical qualities. <read more>\n",
        "\n"
      ],
      "metadata": {
        "id": "RnleppRi2aJe"
      }
    },
    {
      "cell_type": "markdown",
      "source": [
        "- Most hits are around 3 minutes and 20 seconds long—a **duration that is short enough for radio play** while still delivering a complete musical message.\n",
        "- High danceability scores, with over 60% of tracks boasting values above 0.7, indicate that an **infectious rhythm is crucial**, while a relatively high energy level paired with greater loudness creates a dynamic and engaging listening experience.\n",
        "- In contrast, these songs typically have lower acousticness and instrumentalness, suggesting that **a polished, digitally produced sound rather than an organic or stripped-down arrangement is preferred**.\n",
        "- Additionally, while some features like speechiness, duration, and liveness show little to no linear relationship with other attributes, this independence allows for **creative variation, meaning that a strong hook or an innovative production can compensate for less typical traits**.\n",
        "- Finally, genre analysis points to pop and its related subgenres as dominant, reinforcing the idea that **cross-genre appeal combined with modern production values** helps shape a Top 50 hit."
      ],
      "metadata": {
        "id": "EYG25hxq4ONc"
      }
    },
    {
      "cell_type": "markdown",
      "source": [
        "# Suggestions for Further Analysis\n",
        "\n",
        "To define what features makes a track popular, the following further steps could be taken."
      ],
      "metadata": {
        "id": "alfH6P3i4FoA"
      }
    },
    {
      "cell_type": "markdown",
      "source": [
        "- **Larger dataset**, for example TOP50 songs for the past 10 years. That would allow to identify whether music trends have impact or popularity is based on the characteristics analyzed in this report.\n",
        "- Also, **additional metrics**, such as play count, playlist appearances, country-level data, release date, demographic data of listeners, listener retention over time, etc.\n",
        "- **Sentiment analysis of lyrics** could offer insight into the emotional tone of popular songs—do upbeat lyrics correlate with higher ranks, or are sad songs just as likely to chart?\n",
        "- **Release strategy factors**: Add variables like release day, whether the song had a music video at launch, or social media buzz—these contextual features might play a role in a track’s popularity beyond its audio profile.\n",
        "- **Artist-level profiling**: Build artist “fingerprints” using averaged or aggregated audio features—this could help spot consistency in style or successful experimentation across their hits."
      ],
      "metadata": {
        "id": "o6h4A96p4Qbi"
      }
    }
  ]
}